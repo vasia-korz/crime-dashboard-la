{
 "cells": [
  {
   "cell_type": "code",
   "execution_count": 130,
   "id": "initial_id",
   "metadata": {
    "collapsed": true,
    "ExecuteTime": {
     "end_time": "2024-06-07T14:26:40.320863300Z",
     "start_time": "2024-06-07T14:26:40.317192300Z"
    }
   },
   "outputs": [],
   "source": [
    "import pandas as pd\n",
    "import numpy as np"
   ]
  },
  {
   "cell_type": "code",
   "execution_count": 131,
   "outputs": [],
   "source": [
    "data = pd.read_csv(\"data/dataset_extended.csv\")"
   ],
   "metadata": {
    "collapsed": false,
    "ExecuteTime": {
     "end_time": "2024-06-07T14:26:46.002114200Z",
     "start_time": "2024-06-07T14:26:40.698009800Z"
    }
   },
   "id": "d07f2d20d314050a"
  },
  {
   "cell_type": "code",
   "execution_count": 132,
   "outputs": [],
   "source": [
    "data_recent = data[\n",
    "    (data[\"DATE OCC\"].str.split().str[0].str[-4:] == \"2024\")\n",
    "]"
   ],
   "metadata": {
    "collapsed": false,
    "ExecuteTime": {
     "end_time": "2024-06-07T14:26:48.319762400Z",
     "start_time": "2024-06-07T14:26:46.002114200Z"
    }
   },
   "id": "802c6b186bed3900"
  },
  {
   "cell_type": "code",
   "execution_count": 133,
   "outputs": [],
   "source": [
    "data_recent = data_recent[data_recent[\"LAT\"] != 0]"
   ],
   "metadata": {
    "collapsed": false,
    "ExecuteTime": {
     "end_time": "2024-06-07T14:26:48.344311500Z",
     "start_time": "2024-06-07T14:26:48.320762900Z"
    }
   },
   "id": "5edf305be8cf56ac"
  },
  {
   "cell_type": "code",
   "execution_count": 134,
   "outputs": [],
   "source": [
    "data_recent[\"Vict Descent\"].replace(\"X\", \"\", inplace=True)\n",
    "data_recent[\"Vict Descent\"].fillna(\"\", inplace=True)"
   ],
   "metadata": {
    "collapsed": false,
    "ExecuteTime": {
     "end_time": "2024-06-07T14:26:48.378174200Z",
     "start_time": "2024-06-07T14:26:48.340309500Z"
    }
   },
   "id": "5e634967d9d1b1af"
  },
  {
   "cell_type": "code",
   "execution_count": 135,
   "outputs": [],
   "source": [
    "ethnicity_dict = {\n",
    "    \"A\": \"Asian\",\n",
    "    \"B\": \"Black\",\n",
    "    \"C\": \"Chinese\",\n",
    "    \"D\": \"Cambodian\",\n",
    "    \"F\": \"Filipino\",\n",
    "    \"G\": \"Guamanian\",\n",
    "    \"H\": \"Hispanic\",\n",
    "    \"I\": \"Native\",\n",
    "    \"J\": \"Japanese\",\n",
    "    \"K\": \"Korean\",\n",
    "    \"L\": \"Laotian\",\n",
    "    \"O\": \"Other\",\n",
    "    \"P\": \"Pacific\",\n",
    "    \"S\": \"Samoan\",\n",
    "    \"U\": \"Hawaiian\",\n",
    "    \"V\": \"Vietnamese\",\n",
    "    \"W\": \"White\",\n",
    "    \"Z\": \"Indian\"\n",
    "}\n",
    "\n",
    "data_recent[\"Vict Descent\"] = data_recent[\"Vict Descent\"].map(ethnicity_dict)"
   ],
   "metadata": {
    "collapsed": false,
    "ExecuteTime": {
     "end_time": "2024-06-07T14:26:48.379176400Z",
     "start_time": "2024-06-07T14:26:48.357873300Z"
    }
   },
   "id": "a50be1cd2476d463"
  },
  {
   "cell_type": "code",
   "execution_count": 136,
   "outputs": [],
   "source": [
    "crime_categories = {\n",
    "    'CONTEMPT OF COURT': 'Mixed',\n",
    "    'THEFT OF IDENTITY': 'Fraud',\n",
    "    'VIOLATION OF RESTRAINING ORDER': 'Mixed',\n",
    "    'DOCUMENT FORGERY / STOLEN FELONY': 'Fraud',\n",
    "    'SHOPLIFTING - PETTY THEFT ($950 & UNDER)': 'Property',\n",
    "    'BURGLARY FROM VEHICLE': 'Property',\n",
    "    'LETTERS, LEWD  -  TELEPHONE CALLS, LEWD': 'Mixed',\n",
    "    'THEFT-GRAND ($950.01 & OVER)EXCPT,GUNS,FOWL,LIVESTK,PROD': 'Property',\n",
    "    'BATTERY WITH SEXUAL CONTACT': 'Violent',\n",
    "    'INTIMATE PARTNER - SIMPLE ASSAULT': 'Violent',\n",
    "    'CRM AGNST CHLD (13 OR UNDER) (14-15 & SUSP 10 YRS OLDER)': 'Sexual',\n",
    "    'BATTERY ON A FIREFIGHTER': 'Violent',\n",
    "    'CHILD STEALING': 'Violent',\n",
    "    'SEXUAL PENETRATION W/FOREIGN OBJECT': 'Sexual',\n",
    "    'BUNCO, GRAND THEFT': 'Fraud',\n",
    "    'THEFT FROM MOTOR VEHICLE - GRAND ($950.01 AND OVER)': 'Property',\n",
    "    'CHILD ANNOYING (17YRS & UNDER)': 'Sexual',\n",
    "    'CRIMINAL HOMICIDE': 'Violent',\n",
    "    'THEFT PLAIN - PETTY ($950 & UNDER)': 'Property',\n",
    "    'ORAL COPULATION': 'Sexual',\n",
    "    'VEHICLE - STOLEN': 'Property',\n",
    "    'SEX,UNLAWFUL(INC MUTUAL CONSENT, PENETRATION W/ FRGN OBJ': 'Sexual',\n",
    "    'UNAUTHORIZED COMPUTER ACCESS': 'Fraud',\n",
    "    'EMBEZZLEMENT, GRAND THEFT ($950.01 & OVER)': 'Fraud',\n",
    "    'STALKING': 'Violent',\n",
    "    'INTIMATE PARTNER - AGGRAVATED ASSAULT': 'Violent',\n",
    "    'RAPE, FORCIBLE': 'Sexual',\n",
    "    'VANDALISM - FELONY ($400 & OVER, ALL CHURCH VANDALISMS)': 'Property',\n",
    "    'ASSAULT WITH DEADLY WEAPON, AGGRAVATED ASSAULT': 'Violent',\n",
    "    'BURGLARY': 'Property',\n",
    "    'BATTERY - SIMPLE ASSAULT': 'Violent',\n",
    "    'THEFT FROM MOTOR VEHICLE - PETTY ($950 & UNDER)': 'Property',\n",
    "    'HUMAN TRAFFICKING - COMMERCIAL SEX ACTS': 'Sexual',\n",
    "    'SEX OFFENDER REGISTRANT OUT OF COMPLIANCE': 'Sexual',\n",
    "    'OTHER Mixed CRIME': 'Mixed',\n",
    "    'BUNCO, ATTEMPT': 'Fraud',\n",
    "    'ROBBERY': 'Violent',\n",
    "    'CREDIT CARDS, FRAUD USE ($950.01 & OVER)': 'Fraud',\n",
    "    'TRESPASSING': 'Mixed',\n",
    "    'DOCUMENT WORTHLESS ($200.01 & OVER)': 'Fraud',\n",
    "    'LEWD/LASCIVIOUS ACTS WITH CHILD': 'Sexual',\n",
    "    'BRANDISH WEAPON': 'Violent',\n",
    "    'HUMAN TRAFFICKING - INVOLUNTARY SERVITUDE': 'Sexual',\n",
    "    'VEHICLE - ATTEMPT STOLEN': 'Property',\n",
    "    'CHILD ABUSE (PHYSICAL) - SIMPLE ASSAULT': 'Violent',\n",
    "    'CHILD PORNOGRAPHY': 'Sexual',\n",
    "    'SODOMY/SEXUAL CONTACT B/W PENIS OF ONE PERS TO ANUS OTH': 'Sexual',\n",
    "    'DISCHARGE FIREARMS/SHOTS FIRED': 'Violent',\n",
    "    'CRUELTY TO ANIMALS': 'Mixed',\n",
    "    'BIKE - STOLEN': 'Property',\n",
    "    'BUNCO, PETTY THEFT': 'Fraud',\n",
    "    'VANDALISM - MISDEAMEANOR ($399 OR UNDER)': 'Property',\n",
    "    'CRIMINAL THREATS - NO WEAPON DISPLAYED': 'Violent',\n",
    "    'EXTORTION': 'Fraud',\n",
    "    'VEHICLE, STOLEN - OTHER (MOTORIZED SCOOTERS, BIKES, ETC)': 'Property',\n",
    "    'VIOLATION OF COURT ORDER': 'Mixed',\n",
    "    'PEEPING TOM': 'Sexual',\n",
    "    'PICKPOCKET': 'Property',\n",
    "    'ARSON': 'Property',\n",
    "    'FAILURE TO YIELD': 'Mixed',\n",
    "    'EMBEZZLEMENT, PETTY THEFT ($950 & UNDER)': 'Fraud',\n",
    "    'SHOPLIFTING-GRAND THEFT ($950.01 & OVER)': 'Property',\n",
    "    'BIGAMY': 'Mixed',\n",
    "    'WEAPONS POSSESSION/BOMBING': 'Violent',\n",
    "    'CHILD ABUSE (PHYSICAL) - AGGRAVATED ASSAULT': 'Violent',\n",
    "    'DISTURBING THE PEACE': 'Mixed',\n",
    "    'THEFT, PERSON': 'Property',\n",
    "    'INDECENT EXPOSURE': 'Sexual',\n",
    "    'PROWLER': 'Mixed',\n",
    "    'LEWD CONDUCT': 'Sexual',\n",
    "    'CHILD NEGLECT (SEE 300 W.I.C.)': 'Mixed',\n",
    "    'MANSLAUGHTER, NEGLIGENT': 'Violent',\n",
    "    'BURGLARY, ATTEMPTED': 'Property',\n",
    "    'BATTERY POLICE (SIMPLE)': 'Violent',\n",
    "    'BOAT - STOLEN': 'Property',\n",
    "    'KIDNAPPING': 'Violent',\n",
    "    'OTHER ASSAULT': 'Violent',\n",
    "    'FALSE POLICE REPORT': 'Mixed',\n",
    "    'BOMB SCARE': 'Mixed',\n",
    "    'SHOTS FIRED AT MOVING VEHICLE, TRAIN OR AIRCRAFT': 'Violent',\n",
    "    'FALSE IMPRISONMENT': 'Violent',\n",
    "    'ATTEMPTED ROBBERY': 'Violent',\n",
    "    'THROWING OBJECT AT MOVING VEHICLE': 'Mixed',\n",
    "    'DISHONEST EMPLOYEE - GRAND THEFT': 'Fraud',\n",
    "    'RESISTING ARREST': 'Mixed',\n",
    "    'DISHONEST EMPLOYEE ATTEMPTED THEFT': 'Fraud',\n",
    "    'CREDIT CARDS, FRAUD USE ($950 & UNDER': 'Fraud',\n",
    "    'THEFT PLAIN - ATTEMPT': 'Property',\n",
    "    'THREATENING PHONE CALLS/LETTERS': 'Mixed',\n",
    "    'BURGLARY FROM VEHICLE, ATTEMPTED': 'Property',\n",
    "    'CONTRIBUTING': 'Mixed',\n",
    "    'PIMPING': 'Sexual',\n",
    "    'DEFRAUDING INNKEEPER/THEFT OF SERVICES, $950 & UNDER': 'Fraud',\n",
    "    'DOCUMENT WORTHLESS ($200 & UNDER)': 'Fraud',\n",
    "    'RAPE, ATTEMPTED': 'Sexual',\n",
    "    'VIOLATION OF TEMPORARY RESTRAINING ORDER': 'Mixed',\n",
    "    'SHOTS FIRED AT INHABITED DWELLING': 'Violent',\n",
    "    'PANDERING': 'Sexual',\n",
    "    'THEFT, COIN MACHINE - PETTY ($950 & UNDER)': 'Property',\n",
    "    'RECKLESS DRIVING': 'Mixed',\n",
    "    'THEFT FROM MOTOR VEHICLE - ATTEMPT': 'Property',\n",
    "    'DEFRAUDING INNKEEPER/THEFT OF SERVICES, OVER $950.01': 'Fraud',\n",
    "    'ASSAULT WITH DEADLY WEAPON ON POLICE OFFICER': 'Violent',\n",
    "    'DRIVING WITHOUT OWNER CONSENT (DWOC)': 'Property',\n",
    "    'KIDNAPPING - GRAND ATTEMPT': 'Violent',\n",
    "    'GRAND THEFT / INSURANCE FRAUD': 'Fraud',\n",
    "    'THEFT FROM PERSON - ATTEMPT': 'Property',\n",
    "    'INCITING A RIOT': 'Mixed',\n",
    "    'SHOPLIFTING - ATTEMPT': 'Property',\n",
    "    'COUNTERFEIT': 'Fraud',\n",
    "    'CONSPIRACY': 'Mixed',\n",
    "    'ILLEGAL DUMPING': 'Mixed',\n",
    "    'DISHONEST EMPLOYEE - PETTY THEFT': 'Fraud',\n",
    "    'TILL TAP - GRAND THEFT ($950.01 & OVER)': 'Property',\n",
    "    'FAILURE TO DISPERSE': 'Mixed',\n",
    "    'REPLICA FIREARMS(SALE,DISPLAY,MANUFACTURE OR DISTRIBUTE)': 'Mixed',\n",
    "    'TELEPHONE PROPERTY - DAMAGE': 'Property',\n",
    "    'PURSE SNATCHING - ATTEMPT': 'Property',\n",
    "    'PURSE SNATCHING': 'Property',\n",
    "    'LYNCHING': 'Violent',\n",
    "    'CHILD ABANDONMENT': 'Mixed',\n",
    "    'THEFT, COIN MACHINE - ATTEMPT': 'Property',\n",
    "    'INCEST (SEXUAL ACTS BETWEEN BLOOD RELATIVES)': 'Sexual',\n",
    "    'TRAIN WRECKING': 'Mixed',\n",
    "    'TILL TAP - PETTY ($950 & UNDER)': 'Property',\n",
    "    'DISRUPT SCHOOL': 'Mixed',\n",
    "    'DRUNK ROLL': 'Mixed',\n",
    "    'PICKPOCKET, ATTEMPT': 'Property'\n",
    "}\n",
    "\n",
    "data_recent[\"Crm Cd Desc\"] = data_recent[\"Crm Cd Desc\"].map(crime_categories)"
   ],
   "metadata": {
    "collapsed": false,
    "ExecuteTime": {
     "end_time": "2024-06-07T14:26:48.503140400Z",
     "start_time": "2024-06-07T14:26:48.483800300Z"
    }
   },
   "id": "5e3bb6020ba12395"
  },
  {
   "cell_type": "code",
   "execution_count": 137,
   "outputs": [],
   "source": [
    "data_recent[\"Crm Cd Desc\"].fillna(\"Mixed\", inplace=True)"
   ],
   "metadata": {
    "collapsed": false,
    "ExecuteTime": {
     "end_time": "2024-06-07T14:26:48.523977400Z",
     "start_time": "2024-06-07T14:26:48.496472200Z"
    }
   },
   "id": "3a62151346359467"
  },
  {
   "cell_type": "code",
   "execution_count": 138,
   "outputs": [],
   "source": [
    "data_recent[\"month\"] = data_recent[\"DATE OCC\"].str.split(\"/\").str[0].astype(int)\n",
    "# data_recent = data_recent.drop(data_recent[data_recent[\"month\"] == \"05\"].index)"
   ],
   "metadata": {
    "collapsed": false,
    "ExecuteTime": {
     "end_time": "2024-06-07T14:26:48.622553600Z",
     "start_time": "2024-06-07T14:26:48.507661100Z"
    }
   },
   "id": "a78fda0abac69b13"
  },
  {
   "cell_type": "code",
   "execution_count": 139,
   "outputs": [],
   "source": [
    "data_recent.to_csv(\"data/dataset_recent.csv\")"
   ],
   "metadata": {
    "collapsed": false,
    "ExecuteTime": {
     "end_time": "2024-06-07T14:26:49.513435100Z",
     "start_time": "2024-06-07T14:26:48.623556300Z"
    }
   },
   "id": "cccefbcf495d5fff"
  },
  {
   "cell_type": "code",
   "execution_count": 140,
   "outputs": [
    {
     "data": {
      "text/plain": "array([1, 3, 4, 2, 5])"
     },
     "execution_count": 140,
     "metadata": {},
     "output_type": "execute_result"
    }
   ],
   "source": [
    "data_recent[\"month\"].unique()"
   ],
   "metadata": {
    "collapsed": false,
    "ExecuteTime": {
     "end_time": "2024-06-07T14:26:49.532539500Z",
     "start_time": "2024-06-07T14:26:49.515435200Z"
    }
   },
   "id": "56120fb59aa58f79"
  },
  {
   "cell_type": "markdown",
   "source": [
    "data_recent"
   ],
   "metadata": {
    "collapsed": false
   },
   "id": "d2b9e2769976316f"
  },
  {
   "cell_type": "code",
   "execution_count": 104,
   "outputs": [
    {
     "data": {
      "text/plain": "array(['06/17/2023 12:00:00 AM', '02/11/2023 12:00:00 AM',\n       '09/19/2023 12:00:00 AM', '04/10/2023 12:00:00 AM',\n       '11/08/2023 12:00:00 AM', '07/20/2023 12:00:00 AM',\n       '08/04/2023 12:00:00 AM', '10/19/2023 12:00:00 AM',\n       '01/21/2023 12:00:00 AM', '02/12/2023 12:00:00 AM',\n       '12/29/2023 12:00:00 AM', '12/28/2023 12:00:00 AM',\n       '10/27/2023 12:00:00 AM', '12/12/2023 12:00:00 AM',\n       '07/27/2023 12:00:00 AM', '12/11/2023 12:00:00 AM',\n       '07/23/2023 12:00:00 AM', '05/12/2023 12:00:00 AM',\n       '11/25/2023 12:00:00 AM', '03/03/2023 12:00:00 AM',\n       '07/26/2023 12:00:00 AM', '02/22/2023 12:00:00 AM',\n       '07/09/2023 12:00:00 AM', '09/11/2023 12:00:00 AM',\n       '03/13/2023 12:00:00 AM', '11/09/2023 12:00:00 AM',\n       '02/18/2023 12:00:00 AM', '11/10/2023 12:00:00 AM',\n       '06/09/2023 12:00:00 AM', '03/01/2023 12:00:00 AM',\n       '11/14/2023 12:00:00 AM', '12/04/2023 12:00:00 AM',\n       '09/14/2023 12:00:00 AM', '05/31/2023 12:00:00 AM',\n       '02/01/2023 12:00:00 AM', '09/02/2023 12:00:00 AM',\n       '07/30/2023 12:00:00 AM', '05/15/2023 12:00:00 AM',\n       '02/03/2023 12:00:00 AM', '08/15/2023 12:00:00 AM',\n       '05/20/2023 12:00:00 AM', '08/28/2023 12:00:00 AM',\n       '11/20/2023 12:00:00 AM', '02/27/2023 12:00:00 AM',\n       '04/27/2023 12:00:00 AM', '04/14/2023 12:00:00 AM',\n       '10/12/2023 12:00:00 AM', '06/02/2023 12:00:00 AM',\n       '03/26/2023 12:00:00 AM', '11/04/2023 12:00:00 AM',\n       '12/18/2023 12:00:00 AM', '10/04/2023 12:00:00 AM',\n       '03/21/2023 12:00:00 AM', '11/05/2023 12:00:00 AM',\n       '06/21/2023 12:00:00 AM', '07/28/2023 12:00:00 AM',\n       '10/06/2023 12:00:00 AM', '06/22/2023 12:00:00 AM',\n       '02/07/2023 12:00:00 AM', '04/08/2023 12:00:00 AM',\n       '08/10/2023 12:00:00 AM', '09/23/2023 12:00:00 AM',\n       '02/05/2023 12:00:00 AM', '08/24/2023 12:00:00 AM',\n       '03/09/2023 12:00:00 AM', '04/30/2023 12:00:00 AM',\n       '11/21/2023 12:00:00 AM', '09/20/2023 12:00:00 AM',\n       '04/23/2023 12:00:00 AM', '10/20/2023 12:00:00 AM',\n       '06/08/2023 12:00:00 AM', '12/21/2023 12:00:00 AM',\n       '05/18/2023 12:00:00 AM', '01/06/2023 12:00:00 AM',\n       '10/17/2023 12:00:00 AM', '03/22/2023 12:00:00 AM',\n       '07/11/2023 12:00:00 AM', '03/30/2023 12:00:00 AM',\n       '07/12/2023 12:00:00 AM', '02/24/2023 12:00:00 AM',\n       '04/06/2023 12:00:00 AM', '04/09/2023 12:00:00 AM',\n       '01/04/2023 12:00:00 AM', '11/16/2023 12:00:00 AM',\n       '11/15/2023 12:00:00 AM', '11/02/2023 12:00:00 AM',\n       '05/11/2023 12:00:00 AM', '02/17/2023 12:00:00 AM',\n       '08/18/2023 12:00:00 AM', '02/16/2023 12:00:00 AM',\n       '07/03/2023 12:00:00 AM', '01/15/2023 12:00:00 AM',\n       '10/09/2023 12:00:00 AM', '09/01/2023 12:00:00 AM',\n       '12/07/2023 12:00:00 AM', '12/02/2023 12:00:00 AM',\n       '09/09/2023 12:00:00 AM', '10/16/2023 12:00:00 AM',\n       '08/02/2023 12:00:00 AM', '02/04/2023 12:00:00 AM',\n       '06/28/2023 12:00:00 AM', '08/19/2023 12:00:00 AM',\n       '03/11/2023 12:00:00 AM', '08/13/2023 12:00:00 AM',\n       '06/30/2023 12:00:00 AM', '07/15/2023 12:00:00 AM',\n       '05/05/2023 12:00:00 AM', '06/13/2023 12:00:00 AM',\n       '01/31/2023 12:00:00 AM', '09/24/2023 12:00:00 AM',\n       '04/18/2023 12:00:00 AM', '01/08/2023 12:00:00 AM',\n       '05/22/2023 12:00:00 AM', '10/07/2023 12:00:00 AM',\n       '01/16/2023 12:00:00 AM', '10/31/2023 12:00:00 AM',\n       '03/04/2023 12:00:00 AM', '02/02/2023 12:00:00 AM',\n       '10/05/2023 12:00:00 AM', '10/30/2023 12:00:00 AM',\n       '04/07/2023 12:00:00 AM', '10/15/2023 12:00:00 AM',\n       '08/22/2023 12:00:00 AM', '04/15/2023 12:00:00 AM',\n       '04/02/2023 12:00:00 AM', '01/28/2023 12:00:00 AM',\n       '07/02/2023 12:00:00 AM', '05/13/2023 12:00:00 AM',\n       '03/15/2023 12:00:00 AM', '01/10/2023 12:00:00 AM',\n       '11/30/2023 12:00:00 AM', '03/31/2023 12:00:00 AM',\n       '04/25/2023 12:00:00 AM', '08/09/2023 12:00:00 AM',\n       '06/12/2023 12:00:00 AM', '09/08/2023 12:00:00 AM',\n       '03/08/2023 12:00:00 AM', '12/20/2023 12:00:00 AM',\n       '08/11/2023 12:00:00 AM', '04/19/2023 12:00:00 AM',\n       '09/06/2023 12:00:00 AM', '11/01/2023 12:00:00 AM',\n       '01/17/2023 12:00:00 AM', '09/28/2023 12:00:00 AM',\n       '12/15/2023 12:00:00 AM', '06/16/2023 12:00:00 AM',\n       '06/23/2023 12:00:00 AM', '06/26/2023 12:00:00 AM',\n       '12/31/2023 12:00:00 AM', '01/07/2023 12:00:00 AM',\n       '12/16/2023 12:00:00 AM', '09/15/2023 12:00:00 AM',\n       '06/07/2023 12:00:00 AM', '02/10/2023 12:00:00 AM',\n       '04/22/2023 12:00:00 AM', '09/13/2023 12:00:00 AM',\n       '01/01/2023 12:00:00 AM', '08/17/2023 12:00:00 AM',\n       '06/03/2023 12:00:00 AM', '12/22/2023 12:00:00 AM',\n       '05/14/2023 12:00:00 AM', '01/23/2023 12:00:00 AM',\n       '10/21/2023 12:00:00 AM', '01/30/2023 12:00:00 AM',\n       '10/28/2023 12:00:00 AM', '10/02/2023 12:00:00 AM',\n       '12/09/2023 12:00:00 AM', '07/10/2023 12:00:00 AM',\n       '06/19/2023 12:00:00 AM', '05/10/2023 12:00:00 AM',\n       '03/05/2023 12:00:00 AM', '06/05/2023 12:00:00 AM',\n       '07/13/2023 12:00:00 AM', '04/01/2023 12:00:00 AM',\n       '07/21/2023 12:00:00 AM', '08/07/2023 12:00:00 AM',\n       '10/13/2023 12:00:00 AM', '10/11/2023 12:00:00 AM',\n       '01/27/2023 12:00:00 AM', '02/15/2023 12:00:00 AM',\n       '01/03/2023 12:00:00 AM', '05/08/2023 12:00:00 AM',\n       '07/06/2023 12:00:00 AM', '05/01/2023 12:00:00 AM',\n       '09/12/2023 12:00:00 AM', '03/25/2023 12:00:00 AM',\n       '06/24/2023 12:00:00 AM', '03/06/2023 12:00:00 AM',\n       '08/27/2023 12:00:00 AM', '08/06/2023 12:00:00 AM',\n       '01/13/2023 12:00:00 AM', '07/04/2023 12:00:00 AM',\n       '02/09/2023 12:00:00 AM', '07/17/2023 12:00:00 AM',\n       '10/23/2023 12:00:00 AM', '11/19/2023 12:00:00 AM',\n       '09/30/2023 12:00:00 AM', '01/25/2023 12:00:00 AM',\n       '12/01/2023 12:00:00 AM', '04/28/2023 12:00:00 AM',\n       '08/08/2023 12:00:00 AM', '06/25/2023 12:00:00 AM',\n       '07/29/2023 12:00:00 AM', '04/21/2023 12:00:00 AM',\n       '12/03/2023 12:00:00 AM', '02/23/2023 12:00:00 AM',\n       '10/29/2023 12:00:00 AM', '02/20/2023 12:00:00 AM',\n       '01/19/2023 12:00:00 AM', '12/10/2023 12:00:00 AM',\n       '10/24/2023 12:00:00 AM', '04/29/2023 12:00:00 AM',\n       '01/18/2023 12:00:00 AM', '06/04/2023 12:00:00 AM',\n       '10/08/2023 12:00:00 AM', '01/05/2023 12:00:00 AM',\n       '11/13/2023 12:00:00 AM', '07/25/2023 12:00:00 AM',\n       '03/10/2023 12:00:00 AM', '12/25/2023 12:00:00 AM',\n       '01/12/2023 12:00:00 AM', '02/14/2023 12:00:00 AM',\n       '04/20/2023 12:00:00 AM', '03/14/2023 12:00:00 AM',\n       '09/03/2023 12:00:00 AM', '07/14/2023 12:00:00 AM',\n       '11/23/2023 12:00:00 AM', '05/16/2023 12:00:00 AM',\n       '03/23/2023 12:00:00 AM', '08/01/2023 12:00:00 AM',\n       '05/27/2023 12:00:00 AM', '11/12/2023 12:00:00 AM',\n       '09/16/2023 12:00:00 AM', '05/30/2023 12:00:00 AM',\n       '10/01/2023 12:00:00 AM', '05/19/2023 12:00:00 AM',\n       '07/07/2023 12:00:00 AM', '11/26/2023 12:00:00 AM',\n       '12/08/2023 12:00:00 AM', '01/11/2023 12:00:00 AM',\n       '04/26/2023 12:00:00 AM', '05/24/2023 12:00:00 AM',\n       '04/16/2023 12:00:00 AM', '08/25/2023 12:00:00 AM',\n       '07/18/2023 12:00:00 AM', '05/03/2023 12:00:00 AM',\n       '11/11/2023 12:00:00 AM', '03/24/2023 12:00:00 AM',\n       '10/18/2023 12:00:00 AM', '02/13/2023 12:00:00 AM',\n       '02/08/2023 12:00:00 AM', '04/05/2023 12:00:00 AM',\n       '09/22/2023 12:00:00 AM', '11/17/2023 12:00:00 AM',\n       '03/28/2023 12:00:00 AM', '08/29/2023 12:00:00 AM',\n       '03/19/2023 12:00:00 AM', '09/21/2023 12:00:00 AM',\n       '05/25/2023 12:00:00 AM', '10/25/2023 12:00:00 AM',\n       '11/06/2023 12:00:00 AM', '12/19/2023 12:00:00 AM',\n       '03/07/2023 12:00:00 AM', '08/03/2023 12:00:00 AM',\n       '02/26/2023 12:00:00 AM', '09/18/2023 12:00:00 AM',\n       '02/21/2023 12:00:00 AM', '03/27/2023 12:00:00 AM',\n       '12/05/2023 12:00:00 AM', '04/12/2023 12:00:00 AM',\n       '06/15/2023 12:00:00 AM', '11/28/2023 12:00:00 AM',\n       '06/10/2023 12:00:00 AM', '03/12/2023 12:00:00 AM',\n       '07/08/2023 12:00:00 AM', '03/02/2023 12:00:00 AM',\n       '11/03/2023 12:00:00 AM', '11/18/2023 12:00:00 AM',\n       '08/05/2023 12:00:00 AM', '05/26/2023 12:00:00 AM',\n       '08/16/2023 12:00:00 AM', '12/27/2023 12:00:00 AM',\n       '05/04/2023 12:00:00 AM', '12/06/2023 12:00:00 AM',\n       '09/17/2023 12:00:00 AM', '04/04/2023 12:00:00 AM',\n       '09/29/2023 12:00:00 AM', '09/27/2023 12:00:00 AM',\n       '08/21/2023 12:00:00 AM', '12/23/2023 12:00:00 AM',\n       '09/25/2023 12:00:00 AM', '09/26/2023 12:00:00 AM',\n       '07/24/2023 12:00:00 AM', '05/29/2023 12:00:00 AM',\n       '07/19/2023 12:00:00 AM', '08/26/2023 12:00:00 AM',\n       '10/10/2023 12:00:00 AM', '07/05/2023 12:00:00 AM',\n       '12/17/2023 12:00:00 AM', '07/31/2023 12:00:00 AM',\n       '02/06/2023 12:00:00 AM', '08/30/2023 12:00:00 AM',\n       '09/10/2023 12:00:00 AM', '08/31/2023 12:00:00 AM',\n       '05/17/2023 12:00:00 AM', '06/01/2023 12:00:00 AM',\n       '01/09/2023 12:00:00 AM', '03/20/2023 12:00:00 AM',\n       '09/05/2023 12:00:00 AM', '10/14/2023 12:00:00 AM',\n       '12/13/2023 12:00:00 AM', '05/23/2023 12:00:00 AM',\n       '03/18/2023 12:00:00 AM', '05/02/2023 12:00:00 AM',\n       '08/20/2023 12:00:00 AM', '03/29/2023 12:00:00 AM',\n       '08/23/2023 12:00:00 AM', '03/17/2023 12:00:00 AM',\n       '10/03/2023 12:00:00 AM', '04/17/2023 12:00:00 AM',\n       '01/02/2023 12:00:00 AM', '10/22/2023 12:00:00 AM',\n       '05/21/2023 12:00:00 AM', '11/22/2023 12:00:00 AM',\n       '11/07/2023 12:00:00 AM', '07/01/2023 12:00:00 AM',\n       '01/20/2023 12:00:00 AM', '04/11/2023 12:00:00 AM',\n       '06/20/2023 12:00:00 AM', '04/13/2023 12:00:00 AM',\n       '09/04/2023 12:00:00 AM', '02/19/2023 12:00:00 AM',\n       '05/09/2023 12:00:00 AM', '06/11/2023 12:00:00 AM',\n       '01/29/2023 12:00:00 AM', '11/29/2023 12:00:00 AM',\n       '06/18/2023 12:00:00 AM', '10/26/2023 12:00:00 AM',\n       '05/06/2023 12:00:00 AM', '08/14/2023 12:00:00 AM',\n       '06/06/2023 12:00:00 AM', '01/24/2023 12:00:00 AM',\n       '06/14/2023 12:00:00 AM', '12/26/2023 12:00:00 AM',\n       '08/12/2023 12:00:00 AM', '11/27/2023 12:00:00 AM',\n       '02/25/2023 12:00:00 AM', '05/28/2023 12:00:00 AM',\n       '11/24/2023 12:00:00 AM', '06/27/2023 12:00:00 AM',\n       '07/22/2023 12:00:00 AM', '01/26/2023 12:00:00 AM',\n       '01/22/2023 12:00:00 AM', '12/14/2023 12:00:00 AM',\n       '04/03/2023 12:00:00 AM', '01/14/2023 12:00:00 AM',\n       '12/24/2023 12:00:00 AM', '04/24/2023 12:00:00 AM',\n       '05/07/2023 12:00:00 AM', '09/07/2023 12:00:00 AM',\n       '06/29/2023 12:00:00 AM', '02/28/2023 12:00:00 AM',\n       '12/30/2023 12:00:00 AM', '07/16/2023 12:00:00 AM',\n       '03/16/2023 12:00:00 AM'], dtype=object)"
     },
     "execution_count": 104,
     "metadata": {},
     "output_type": "execute_result"
    }
   ],
   "source": [
    "data_recent[\"DATE OCC\"].unique()"
   ],
   "metadata": {
    "collapsed": false,
    "ExecuteTime": {
     "end_time": "2024-06-07T13:20:25.951304300Z",
     "start_time": "2024-06-07T13:20:25.918098600Z"
    }
   },
   "id": "c22cfd14f939cbd6"
  },
  {
   "cell_type": "code",
   "execution_count": 144,
   "outputs": [
    {
     "data": {
      "text/plain": "DR_NO             332.380952\nDate Rptd         332.380952\nDATE OCC          332.380952\nTIME OCC          332.380952\nAREA              332.380952\nAREA NAME         332.380952\nRpt Dist No       332.380952\nPart 1-2          332.380952\nCrm Cd            332.380952\nCrm Cd Desc       332.380952\nMocodes           235.952381\nVict Age          332.380952\nVict Sex          238.619048\nVict Descent      192.523810\nPremis Cd         332.380952\nPremis Desc       332.285714\nWeapon Used Cd     58.428571\nWeapon Desc        58.428571\nStatus            332.380952\nStatus Desc       332.380952\nCrm Cd 1          332.380952\nCrm Cd 2           13.333333\nCrm Cd 3            0.238095\nCrm Cd 4            0.000000\nLOCATION          332.380952\nCross Street       47.380952\nLAT               332.380952\nLON               332.380952\nmonth             332.380952\ndtype: float64"
     },
     "execution_count": 144,
     "metadata": {},
     "output_type": "execute_result"
    }
   ],
   "source": [
    "data_recent[data_recent[\"month\"] == 5].count() / 21"
   ],
   "metadata": {
    "collapsed": false,
    "ExecuteTime": {
     "end_time": "2024-06-07T14:33:32.502089100Z",
     "start_time": "2024-06-07T14:33:32.438233800Z"
    }
   },
   "id": "57b32712ebe5082d"
  },
  {
   "cell_type": "code",
   "execution_count": 103,
   "outputs": [
    {
     "data": {
      "text/plain": "            DR_NO               Date Rptd                DATE OCC  TIME OCC  \\\n644418  230611294  06/17/2023 12:00:00 AM  06/17/2023 12:00:00 AM      1140   \n644419  230106843  02/12/2023 12:00:00 AM  02/11/2023 12:00:00 AM      1630   \n644420  231515059  09/19/2023 12:00:00 AM  09/19/2023 12:00:00 AM      1030   \n644421  230110347  04/11/2023 12:00:00 AM  04/10/2023 12:00:00 AM       816   \n644422  230617683  11/10/2023 12:00:00 AM  11/08/2023 12:00:00 AM       800   \n...           ...                     ...                     ...       ...   \n876139  231606525  03/22/2023 12:00:00 AM  03/22/2023 12:00:00 AM      1000   \n876140  231716047  10/02/2023 12:00:00 AM  09/25/2023 12:00:00 AM      2200   \n876141  230115220  07/02/2023 12:00:00 AM  07/01/2023 12:00:00 AM         1   \n876142  230906458  03/05/2023 12:00:00 AM  03/05/2023 12:00:00 AM       900   \n876143  230319786  11/10/2023 12:00:00 AM  11/09/2023 12:00:00 AM      2300   \n\n        AREA    AREA NAME  Rpt Dist No  Part 1-2  Crm Cd Crm Cd Desc  ...  \\\n644418     6    Hollywood          668         1     442    Property  ...   \n644419     1      Central          191         1     440    Property  ...   \n644420    15  N Hollywood         1549         1     230     Violent  ...   \n644421     1      Central          192         1     331    Property  ...   \n644422     6    Hollywood          663         2     662       Fraud  ...   \n...      ...          ...          ...       ...     ...         ...  ...   \n876139    16     Foothill         1602         1     230     Violent  ...   \n876140    17   Devonshire         1798         2     740    Property  ...   \n876141     1      Central          154         1     352    Property  ...   \n876142     9     Van Nuys          914         2     745    Property  ...   \n876143     3    Southwest          395         1     331    Property  ...   \n\n        Status Desc  Crm Cd 1 Crm Cd 2 Crm Cd 3  Crm Cd 4  \\\n644418  Invest Cont     442.0      NaN      NaN       NaN   \n644419  Invest Cont     440.0      NaN      NaN       NaN   \n644420  Invest Cont     230.0    761.0      NaN       NaN   \n644421  Invest Cont     331.0      NaN      NaN       NaN   \n644422  Invest Cont     662.0      NaN      NaN       NaN   \n...             ...       ...      ...      ...       ...   \n876139  Invest Cont     230.0      NaN      NaN       NaN   \n876140  Invest Cont     740.0      NaN      NaN       NaN   \n876141  Invest Cont     352.0      NaN      NaN       NaN   \n876142  Invest Cont     745.0      NaN      NaN       NaN   \n876143  Invest Cont     331.0      NaN      NaN       NaN   \n\n                                        LOCATION  \\\n644418   5500 W  SUNSET                       BL   \n644419   1400    WRIGHT                       ST   \n644420           BURBANK                      BL   \n644421   1300 S  FLOWER                       ST   \n644422   1200    SEWARD                       ST   \n...                                          ...   \n876139  12800    FILMORE                      ST   \n876140   8800    HASKELL                      AV   \n876141    500 S  MAIN                         ST   \n876142  14500    HARTLAND                     ST   \n876143   4100 S  HOBART                       BL   \n\n                           Cross Street      LAT       LON month  \n644418                              NaN  34.0981 -118.3092    06  \n644419                              NaN  34.0396 -118.2726    02  \n644420  CAHUENGA                     BL  34.1721 -118.3616    09  \n644421                              NaN  34.0401 -118.2669    04  \n644422                              NaN  34.0907 -118.3384    11  \n...                                 ...      ...       ...   ...  \n876139                              NaN  34.2790 -118.4116    03  \n876140                              NaN  34.2302 -118.4764    09  \n876141                              NaN  34.0467 -118.2485    07  \n876142                              NaN  34.1951 -118.4487    03  \n876143                              NaN  34.0091 -118.3078    11  \n\n[231722 rows x 29 columns]",
      "text/html": "<div>\n<style scoped>\n    .dataframe tbody tr th:only-of-type {\n        vertical-align: middle;\n    }\n\n    .dataframe tbody tr th {\n        vertical-align: top;\n    }\n\n    .dataframe thead th {\n        text-align: right;\n    }\n</style>\n<table border=\"1\" class=\"dataframe\">\n  <thead>\n    <tr style=\"text-align: right;\">\n      <th></th>\n      <th>DR_NO</th>\n      <th>Date Rptd</th>\n      <th>DATE OCC</th>\n      <th>TIME OCC</th>\n      <th>AREA</th>\n      <th>AREA NAME</th>\n      <th>Rpt Dist No</th>\n      <th>Part 1-2</th>\n      <th>Crm Cd</th>\n      <th>Crm Cd Desc</th>\n      <th>...</th>\n      <th>Status Desc</th>\n      <th>Crm Cd 1</th>\n      <th>Crm Cd 2</th>\n      <th>Crm Cd 3</th>\n      <th>Crm Cd 4</th>\n      <th>LOCATION</th>\n      <th>Cross Street</th>\n      <th>LAT</th>\n      <th>LON</th>\n      <th>month</th>\n    </tr>\n  </thead>\n  <tbody>\n    <tr>\n      <th>644418</th>\n      <td>230611294</td>\n      <td>06/17/2023 12:00:00 AM</td>\n      <td>06/17/2023 12:00:00 AM</td>\n      <td>1140</td>\n      <td>6</td>\n      <td>Hollywood</td>\n      <td>668</td>\n      <td>1</td>\n      <td>442</td>\n      <td>Property</td>\n      <td>...</td>\n      <td>Invest Cont</td>\n      <td>442.0</td>\n      <td>NaN</td>\n      <td>NaN</td>\n      <td>NaN</td>\n      <td>5500 W  SUNSET                       BL</td>\n      <td>NaN</td>\n      <td>34.0981</td>\n      <td>-118.3092</td>\n      <td>06</td>\n    </tr>\n    <tr>\n      <th>644419</th>\n      <td>230106843</td>\n      <td>02/12/2023 12:00:00 AM</td>\n      <td>02/11/2023 12:00:00 AM</td>\n      <td>1630</td>\n      <td>1</td>\n      <td>Central</td>\n      <td>191</td>\n      <td>1</td>\n      <td>440</td>\n      <td>Property</td>\n      <td>...</td>\n      <td>Invest Cont</td>\n      <td>440.0</td>\n      <td>NaN</td>\n      <td>NaN</td>\n      <td>NaN</td>\n      <td>1400    WRIGHT                       ST</td>\n      <td>NaN</td>\n      <td>34.0396</td>\n      <td>-118.2726</td>\n      <td>02</td>\n    </tr>\n    <tr>\n      <th>644420</th>\n      <td>231515059</td>\n      <td>09/19/2023 12:00:00 AM</td>\n      <td>09/19/2023 12:00:00 AM</td>\n      <td>1030</td>\n      <td>15</td>\n      <td>N Hollywood</td>\n      <td>1549</td>\n      <td>1</td>\n      <td>230</td>\n      <td>Violent</td>\n      <td>...</td>\n      <td>Invest Cont</td>\n      <td>230.0</td>\n      <td>761.0</td>\n      <td>NaN</td>\n      <td>NaN</td>\n      <td>BURBANK                      BL</td>\n      <td>CAHUENGA                     BL</td>\n      <td>34.1721</td>\n      <td>-118.3616</td>\n      <td>09</td>\n    </tr>\n    <tr>\n      <th>644421</th>\n      <td>230110347</td>\n      <td>04/11/2023 12:00:00 AM</td>\n      <td>04/10/2023 12:00:00 AM</td>\n      <td>816</td>\n      <td>1</td>\n      <td>Central</td>\n      <td>192</td>\n      <td>1</td>\n      <td>331</td>\n      <td>Property</td>\n      <td>...</td>\n      <td>Invest Cont</td>\n      <td>331.0</td>\n      <td>NaN</td>\n      <td>NaN</td>\n      <td>NaN</td>\n      <td>1300 S  FLOWER                       ST</td>\n      <td>NaN</td>\n      <td>34.0401</td>\n      <td>-118.2669</td>\n      <td>04</td>\n    </tr>\n    <tr>\n      <th>644422</th>\n      <td>230617683</td>\n      <td>11/10/2023 12:00:00 AM</td>\n      <td>11/08/2023 12:00:00 AM</td>\n      <td>800</td>\n      <td>6</td>\n      <td>Hollywood</td>\n      <td>663</td>\n      <td>2</td>\n      <td>662</td>\n      <td>Fraud</td>\n      <td>...</td>\n      <td>Invest Cont</td>\n      <td>662.0</td>\n      <td>NaN</td>\n      <td>NaN</td>\n      <td>NaN</td>\n      <td>1200    SEWARD                       ST</td>\n      <td>NaN</td>\n      <td>34.0907</td>\n      <td>-118.3384</td>\n      <td>11</td>\n    </tr>\n    <tr>\n      <th>...</th>\n      <td>...</td>\n      <td>...</td>\n      <td>...</td>\n      <td>...</td>\n      <td>...</td>\n      <td>...</td>\n      <td>...</td>\n      <td>...</td>\n      <td>...</td>\n      <td>...</td>\n      <td>...</td>\n      <td>...</td>\n      <td>...</td>\n      <td>...</td>\n      <td>...</td>\n      <td>...</td>\n      <td>...</td>\n      <td>...</td>\n      <td>...</td>\n      <td>...</td>\n      <td>...</td>\n    </tr>\n    <tr>\n      <th>876139</th>\n      <td>231606525</td>\n      <td>03/22/2023 12:00:00 AM</td>\n      <td>03/22/2023 12:00:00 AM</td>\n      <td>1000</td>\n      <td>16</td>\n      <td>Foothill</td>\n      <td>1602</td>\n      <td>1</td>\n      <td>230</td>\n      <td>Violent</td>\n      <td>...</td>\n      <td>Invest Cont</td>\n      <td>230.0</td>\n      <td>NaN</td>\n      <td>NaN</td>\n      <td>NaN</td>\n      <td>12800    FILMORE                      ST</td>\n      <td>NaN</td>\n      <td>34.2790</td>\n      <td>-118.4116</td>\n      <td>03</td>\n    </tr>\n    <tr>\n      <th>876140</th>\n      <td>231716047</td>\n      <td>10/02/2023 12:00:00 AM</td>\n      <td>09/25/2023 12:00:00 AM</td>\n      <td>2200</td>\n      <td>17</td>\n      <td>Devonshire</td>\n      <td>1798</td>\n      <td>2</td>\n      <td>740</td>\n      <td>Property</td>\n      <td>...</td>\n      <td>Invest Cont</td>\n      <td>740.0</td>\n      <td>NaN</td>\n      <td>NaN</td>\n      <td>NaN</td>\n      <td>8800    HASKELL                      AV</td>\n      <td>NaN</td>\n      <td>34.2302</td>\n      <td>-118.4764</td>\n      <td>09</td>\n    </tr>\n    <tr>\n      <th>876141</th>\n      <td>230115220</td>\n      <td>07/02/2023 12:00:00 AM</td>\n      <td>07/01/2023 12:00:00 AM</td>\n      <td>1</td>\n      <td>1</td>\n      <td>Central</td>\n      <td>154</td>\n      <td>1</td>\n      <td>352</td>\n      <td>Property</td>\n      <td>...</td>\n      <td>Invest Cont</td>\n      <td>352.0</td>\n      <td>NaN</td>\n      <td>NaN</td>\n      <td>NaN</td>\n      <td>500 S  MAIN                         ST</td>\n      <td>NaN</td>\n      <td>34.0467</td>\n      <td>-118.2485</td>\n      <td>07</td>\n    </tr>\n    <tr>\n      <th>876142</th>\n      <td>230906458</td>\n      <td>03/05/2023 12:00:00 AM</td>\n      <td>03/05/2023 12:00:00 AM</td>\n      <td>900</td>\n      <td>9</td>\n      <td>Van Nuys</td>\n      <td>914</td>\n      <td>2</td>\n      <td>745</td>\n      <td>Property</td>\n      <td>...</td>\n      <td>Invest Cont</td>\n      <td>745.0</td>\n      <td>NaN</td>\n      <td>NaN</td>\n      <td>NaN</td>\n      <td>14500    HARTLAND                     ST</td>\n      <td>NaN</td>\n      <td>34.1951</td>\n      <td>-118.4487</td>\n      <td>03</td>\n    </tr>\n    <tr>\n      <th>876143</th>\n      <td>230319786</td>\n      <td>11/10/2023 12:00:00 AM</td>\n      <td>11/09/2023 12:00:00 AM</td>\n      <td>2300</td>\n      <td>3</td>\n      <td>Southwest</td>\n      <td>395</td>\n      <td>1</td>\n      <td>331</td>\n      <td>Property</td>\n      <td>...</td>\n      <td>Invest Cont</td>\n      <td>331.0</td>\n      <td>NaN</td>\n      <td>NaN</td>\n      <td>NaN</td>\n      <td>4100 S  HOBART                       BL</td>\n      <td>NaN</td>\n      <td>34.0091</td>\n      <td>-118.3078</td>\n      <td>11</td>\n    </tr>\n  </tbody>\n</table>\n<p>231722 rows × 29 columns</p>\n</div>"
     },
     "execution_count": 103,
     "metadata": {},
     "output_type": "execute_result"
    }
   ],
   "source": [
    "data_recent"
   ],
   "metadata": {
    "collapsed": false,
    "ExecuteTime": {
     "end_time": "2024-06-07T13:20:15.670155Z",
     "start_time": "2024-06-07T13:20:15.422553700Z"
    }
   },
   "id": "6c5d726ea0ca29f4"
  },
  {
   "cell_type": "code",
   "execution_count": 40,
   "outputs": [
    {
     "name": "stdout",
     "output_type": "stream",
     "text": [
      "['N Hollywood' 'Hollywood' '77th Street' 'Van Nuys' 'Southeast'\n",
      " 'Southwest' 'Central' 'Pacific' 'Wilshire' 'Northeast' 'Newton' 'Olympic'\n",
      " 'Rampart' 'Mission' 'Topanga' 'Devonshire' 'Hollenbeck' 'West Valley'\n",
      " 'Harbor' 'West LA' 'Foothill']\n"
     ]
    }
   ],
   "source": [
    "print(data_recent[\"AREA NAME\"])"
   ],
   "metadata": {
    "collapsed": false,
    "ExecuteTime": {
     "end_time": "2024-06-07T11:36:43.952250500Z",
     "start_time": "2024-06-07T11:36:43.909779100Z"
    }
   },
   "id": "522efdeaceff12c9"
  },
  {
   "cell_type": "markdown",
   "source": [
    "# Suka breakdown"
   ],
   "metadata": {
    "collapsed": false
   },
   "id": "546a842c7f268c92"
  },
  {
   "cell_type": "code",
   "execution_count": 28,
   "outputs": [
    {
     "data": {
      "text/plain": "Vict Sex\nM    27531\nF    24479\nX     9708\nH       12\nName: count, dtype: int64"
     },
     "execution_count": 28,
     "metadata": {},
     "output_type": "execute_result"
    }
   ],
   "source": [
    "data_recent['Vict Sex'].value_counts()"
   ],
   "metadata": {
    "collapsed": false,
    "ExecuteTime": {
     "end_time": "2024-06-06T14:15:59.375353300Z",
     "start_time": "2024-06-06T14:15:59.366186400Z"
    }
   },
   "id": "204d6db3e3e3e327"
  },
  {
   "cell_type": "code",
   "execution_count": null,
   "outputs": [],
   "source": [
    "case_statuses = data_recent[\"Status Desc\"].unique()"
   ],
   "metadata": {
    "collapsed": false
   },
   "id": "ad0d42ec35bc8f5b"
  },
  {
   "cell_type": "code",
   "execution_count": null,
   "outputs": [],
   "source": [
    "data_recent[\"Status Desc\"].value_counts()"
   ],
   "metadata": {
    "collapsed": false
   },
   "id": "e5f8eb31a9db9a76"
  },
  {
   "cell_type": "code",
   "execution_count": null,
   "outputs": [],
   "source": [
    "data_recent[\"Vict Descent\"].value_counts()"
   ],
   "metadata": {
    "collapsed": false
   },
   "id": "b0d34fdc8c58d371"
  },
  {
   "cell_type": "code",
   "execution_count": null,
   "outputs": [],
   "source": [
    "f"
   ],
   "metadata": {
    "collapsed": false
   },
   "id": "5d4b0dd8f4f0cce7"
  },
  {
   "cell_type": "code",
   "execution_count": 26,
   "outputs": [
    {
     "data": {
      "text/plain": "Crm Cd Desc\nProperty    42694\nViolent     18848\nFraud        5641\nMixed        4749\nSexual       1077\nName: count, dtype: int64"
     },
     "execution_count": 26,
     "metadata": {},
     "output_type": "execute_result"
    }
   ],
   "source": [
    "data_recent[\"Crm Cd Desc\"].value_counts()"
   ],
   "metadata": {
    "collapsed": false,
    "ExecuteTime": {
     "end_time": "2024-06-07T11:01:50.190325500Z",
     "start_time": "2024-06-07T11:01:50.153232600Z"
    }
   },
   "id": "f84b0ac427269f5c"
  },
  {
   "cell_type": "code",
   "execution_count": null,
   "outputs": [],
   "source": [
    "data_recent[data_recent[\"Crm Cd Desc\"] == \"ASSAULT WITH DEADLY WEAPON, AGGRAVATED ASSAULT\"][\"Vict Descent\"].value_counts()"
   ],
   "metadata": {
    "collapsed": false
   },
   "id": "d6a0e2e83d855274"
  },
  {
   "cell_type": "code",
   "execution_count": 10,
   "outputs": [
    {
     "name": "stdout",
     "output_type": "stream",
     "text": [
      "['CONTEMPT OF COURT' 'THEFT OF IDENTITY' 'VIOLATION OF RESTRAINING ORDER'\n",
      " 'DOCUMENT FORGERY / STOLEN FELONY'\n",
      " 'SHOPLIFTING - PETTY THEFT ($950 & UNDER)' 'BURGLARY FROM VEHICLE'\n",
      " 'LETTERS, LEWD  -  TELEPHONE CALLS, LEWD'\n",
      " 'THEFT-GRAND ($950.01 & OVER)EXCPT,GUNS,FOWL,LIVESTK,PROD'\n",
      " 'BATTERY WITH SEXUAL CONTACT' 'INTIMATE PARTNER - SIMPLE ASSAULT'\n",
      " 'CRM AGNST CHLD (13 OR UNDER) (14-15 & SUSP 10 YRS OLDER)'\n",
      " 'BATTERY ON A FIREFIGHTER' 'CHILD STEALING'\n",
      " 'SEXUAL PENETRATION W/FOREIGN OBJECT' 'BUNCO, GRAND THEFT'\n",
      " 'THEFT FROM MOTOR VEHICLE - GRAND ($950.01 AND OVER)'\n",
      " 'CHILD ANNOYING (17YRS & UNDER)' 'CRIMINAL HOMICIDE'\n",
      " 'THEFT PLAIN - PETTY ($950 & UNDER)' 'ORAL COPULATION' 'VEHICLE - STOLEN'\n",
      " 'SEX,UNLAWFUL(INC MUTUAL CONSENT, PENETRATION W/ FRGN OBJ'\n",
      " 'UNAUTHORIZED COMPUTER ACCESS'\n",
      " 'EMBEZZLEMENT, GRAND THEFT ($950.01 & OVER)' 'STALKING'\n",
      " 'INTIMATE PARTNER - AGGRAVATED ASSAULT' 'RAPE, FORCIBLE'\n",
      " 'VANDALISM - FELONY ($400 & OVER, ALL CHURCH VANDALISMS)'\n",
      " 'ASSAULT WITH DEADLY WEAPON, AGGRAVATED ASSAULT' 'BURGLARY'\n",
      " 'BATTERY - SIMPLE ASSAULT'\n",
      " 'THEFT FROM MOTOR VEHICLE - PETTY ($950 & UNDER)'\n",
      " 'HUMAN TRAFFICKING - COMMERCIAL SEX ACTS'\n",
      " 'SEX OFFENDER REGISTRANT OUT OF COMPLIANCE' 'OTHER MISCELLANEOUS CRIME'\n",
      " 'BUNCO, ATTEMPT' 'ROBBERY' 'CREDIT CARDS, FRAUD USE ($950.01 & OVER)'\n",
      " 'TRESPASSING' 'DOCUMENT WORTHLESS ($200.01 & OVER)'\n",
      " 'LEWD/LASCIVIOUS ACTS WITH CHILD' 'BRANDISH WEAPON'\n",
      " 'HUMAN TRAFFICKING - INVOLUNTARY SERVITUDE' 'VEHICLE - ATTEMPT STOLEN'\n",
      " 'CHILD ABUSE (PHYSICAL) - SIMPLE ASSAULT' 'CHILD PORNOGRAPHY'\n",
      " 'SODOMY/SEXUAL CONTACT B/W PENIS OF ONE PERS TO ANUS OTH'\n",
      " 'DISCHARGE FIREARMS/SHOTS FIRED' 'CRUELTY TO ANIMALS' 'BIKE - STOLEN'\n",
      " 'BUNCO, PETTY THEFT' 'VANDALISM - MISDEAMEANOR ($399 OR UNDER)'\n",
      " 'CRIMINAL THREATS - NO WEAPON DISPLAYED' 'EXTORTION'\n",
      " 'VEHICLE, STOLEN - OTHER (MOTORIZED SCOOTERS, BIKES, ETC)'\n",
      " 'VIOLATION OF COURT ORDER' 'PEEPING TOM' 'PICKPOCKET' 'ARSON'\n",
      " 'FAILURE TO YIELD' 'EMBEZZLEMENT, PETTY THEFT ($950 & UNDER)'\n",
      " 'SHOPLIFTING-GRAND THEFT ($950.01 & OVER)' 'BIGAMY'\n",
      " 'WEAPONS POSSESSION/BOMBING'\n",
      " 'CHILD ABUSE (PHYSICAL) - AGGRAVATED ASSAULT' 'DISTURBING THE PEACE'\n",
      " 'THEFT, PERSON' 'INDECENT EXPOSURE' 'PROWLER' 'LEWD CONDUCT'\n",
      " 'CHILD NEGLECT (SEE 300 W.I.C.)' 'MANSLAUGHTER, NEGLIGENT'\n",
      " 'BURGLARY, ATTEMPTED' 'BATTERY POLICE (SIMPLE)' 'BOAT - STOLEN'\n",
      " 'KIDNAPPING' 'OTHER ASSAULT' 'FALSE POLICE REPORT' 'BOMB SCARE'\n",
      " 'SHOTS FIRED AT MOVING VEHICLE, TRAIN OR AIRCRAFT' 'FALSE IMPRISONMENT'\n",
      " 'ATTEMPTED ROBBERY' 'THROWING OBJECT AT MOVING VEHICLE'\n",
      " 'DISHONEST EMPLOYEE - GRAND THEFT' 'RESISTING ARREST'\n",
      " 'DISHONEST EMPLOYEE ATTEMPTED THEFT'\n",
      " 'CREDIT CARDS, FRAUD USE ($950 & UNDER' 'THEFT PLAIN - ATTEMPT'\n",
      " 'THREATENING PHONE CALLS/LETTERS' 'BURGLARY FROM VEHICLE, ATTEMPTED'\n",
      " 'CONTRIBUTING' 'PIMPING'\n",
      " 'DEFRAUDING INNKEEPER/THEFT OF SERVICES, $950 & UNDER'\n",
      " 'DOCUMENT WORTHLESS ($200 & UNDER)' 'RAPE, ATTEMPTED'\n",
      " 'VIOLATION OF TEMPORARY RESTRAINING ORDER'\n",
      " 'SHOTS FIRED AT INHABITED DWELLING' 'PANDERING'\n",
      " 'THEFT, COIN MACHINE - PETTY ($950 & UNDER)' 'RECKLESS DRIVING'\n",
      " 'THEFT FROM MOTOR VEHICLE - ATTEMPT'\n",
      " 'DEFRAUDING INNKEEPER/THEFT OF SERVICES, OVER $950.01'\n",
      " 'ASSAULT WITH DEADLY WEAPON ON POLICE OFFICER'\n",
      " 'DRIVING WITHOUT OWNER CONSENT (DWOC)' 'KIDNAPPING - GRAND ATTEMPT'\n",
      " 'GRAND THEFT / INSURANCE FRAUD' 'THEFT FROM PERSON - ATTEMPT'\n",
      " 'INCITING A RIOT' 'SHOPLIFTING - ATTEMPT' 'COUNTERFEIT' 'CONSPIRACY'\n",
      " 'ILLEGAL DUMPING' 'DISHONEST EMPLOYEE - PETTY THEFT'\n",
      " 'TILL TAP - GRAND THEFT ($950.01 & OVER)' 'FAILURE TO DISPERSE'\n",
      " 'REPLICA FIREARMS(SALE,DISPLAY,MANUFACTURE OR DISTRIBUTE)'\n",
      " 'TELEPHONE PROPERTY - DAMAGE' 'PURSE SNATCHING - ATTEMPT'\n",
      " 'PURSE SNATCHING' 'LYNCHING' 'CHILD ABANDONMENT'\n",
      " 'THEFT, COIN MACHINE - ATTEMPT'\n",
      " 'INCEST (SEXUAL ACTS BETWEEN BLOOD RELATIVES)' 'TRAIN WRECKING'\n",
      " 'TILL TAP - PETTY ($950 & UNDER)' 'DISRUPT SCHOOL' 'DRUNK ROLL'\n",
      " 'PICKPOCKET, ATTEMPT']\n"
     ]
    }
   ],
   "source": [
    "print(data_recent[\"Crm Cd Desc\"].unique())"
   ],
   "metadata": {
    "collapsed": false,
    "ExecuteTime": {
     "end_time": "2024-06-07T10:48:42.118641500Z",
     "start_time": "2024-06-07T10:48:42.084913500Z"
    }
   },
   "id": "a12973f5b8a2f515"
  },
  {
   "cell_type": "code",
   "execution_count": 17,
   "outputs": [],
   "source": [],
   "metadata": {
    "collapsed": false,
    "ExecuteTime": {
     "end_time": "2024-06-07T11:00:55.570105600Z",
     "start_time": "2024-06-07T11:00:55.537066900Z"
    }
   },
   "id": "69389c83cd7e3d86"
  },
  {
   "cell_type": "code",
   "execution_count": null,
   "outputs": [],
   "source": [],
   "metadata": {
    "collapsed": false
   },
   "id": "ef52351f8cdafdd7"
  }
 ],
 "metadata": {
  "kernelspec": {
   "display_name": "Python 3",
   "language": "python",
   "name": "python3"
  },
  "language_info": {
   "codemirror_mode": {
    "name": "ipython",
    "version": 2
   },
   "file_extension": ".py",
   "mimetype": "text/x-python",
   "name": "python",
   "nbconvert_exporter": "python",
   "pygments_lexer": "ipython2",
   "version": "2.7.6"
  }
 },
 "nbformat": 4,
 "nbformat_minor": 5
}
