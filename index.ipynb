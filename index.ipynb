{
 "cells": [
  {
   "cell_type": "code",
   "execution_count": 28,
   "id": "initial_id",
   "metadata": {
    "collapsed": true,
    "ExecuteTime": {
     "end_time": "2024-06-07T11:21:25.623214400Z",
     "start_time": "2024-06-07T11:21:25.595358400Z"
    }
   },
   "outputs": [],
   "source": [
    "import pandas as pd\n",
    "import numpy as np"
   ]
  },
  {
   "cell_type": "code",
   "execution_count": 29,
   "outputs": [],
   "source": [
    "data = pd.read_csv(\"data/dataset.csv\")"
   ],
   "metadata": {
    "collapsed": false,
    "ExecuteTime": {
     "end_time": "2024-06-07T11:21:31.972894900Z",
     "start_time": "2024-06-07T11:21:25.968781100Z"
    }
   },
   "id": "d07f2d20d314050a"
  },
  {
   "cell_type": "code",
   "execution_count": 30,
   "outputs": [],
   "source": [
    "data_recent = data[\n",
    "    (data[\"Date Rptd\"].str.split().str[0].str[-4:] == \"2024\")\n",
    "]"
   ],
   "metadata": {
    "collapsed": false,
    "ExecuteTime": {
     "end_time": "2024-06-07T11:21:34.717556700Z",
     "start_time": "2024-06-07T11:21:31.972894900Z"
    }
   },
   "id": "802c6b186bed3900"
  },
  {
   "cell_type": "code",
   "execution_count": 31,
   "outputs": [],
   "source": [
    "data_recent = data_recent[data_recent[\"LAT\"] != 0]"
   ],
   "metadata": {
    "collapsed": false,
    "ExecuteTime": {
     "end_time": "2024-06-07T11:21:34.745576400Z",
     "start_time": "2024-06-07T11:21:34.717556700Z"
    }
   },
   "id": "5edf305be8cf56ac"
  },
  {
   "cell_type": "code",
   "execution_count": 32,
   "outputs": [],
   "source": [
    "data_recent[\"Vict Descent\"].replace(\"X\", \"\", inplace=True)\n",
    "data_recent[\"Vict Descent\"].fillna(\"\", inplace=True)"
   ],
   "metadata": {
    "collapsed": false,
    "ExecuteTime": {
     "end_time": "2024-06-07T11:21:34.770084800Z",
     "start_time": "2024-06-07T11:21:34.753590300Z"
    }
   },
   "id": "5e634967d9d1b1af"
  },
  {
   "cell_type": "code",
   "execution_count": 33,
   "outputs": [],
   "source": [
    "ethnicity_dict = {\n",
    "    \"A\": \"Asian\",\n",
    "    \"B\": \"Black\",\n",
    "    \"C\": \"Chinese\",\n",
    "    \"D\": \"Cambodian\",\n",
    "    \"F\": \"Filipino\",\n",
    "    \"G\": \"Guamanian\",\n",
    "    \"H\": \"Hispanic\",\n",
    "    \"I\": \"Native\",\n",
    "    \"J\": \"Japanese\",\n",
    "    \"K\": \"Korean\",\n",
    "    \"L\": \"Laotian\",\n",
    "    \"O\": \"Other\",\n",
    "    \"P\": \"Pacific\",\n",
    "    \"S\": \"Samoan\",\n",
    "    \"U\": \"Hawaiian\",\n",
    "    \"V\": \"Vietnamese\",\n",
    "    \"W\": \"White\",\n",
    "    \"Z\": \"Indian\"\n",
    "}\n",
    "\n",
    "data_recent[\"Vict Descent\"] = data_recent[\"Vict Descent\"].map(ethnicity_dict)"
   ],
   "metadata": {
    "collapsed": false,
    "ExecuteTime": {
     "end_time": "2024-06-07T11:21:34.804002900Z",
     "start_time": "2024-06-07T11:21:34.770084800Z"
    }
   },
   "id": "a50be1cd2476d463"
  },
  {
   "cell_type": "code",
   "execution_count": 34,
   "outputs": [],
   "source": [
    "crime_categories = {\n",
    "    'CONTEMPT OF COURT': 'Mixed',\n",
    "    'THEFT OF IDENTITY': 'Fraud',\n",
    "    'VIOLATION OF RESTRAINING ORDER': 'Mixed',\n",
    "    'DOCUMENT FORGERY / STOLEN FELONY': 'Fraud',\n",
    "    'SHOPLIFTING - PETTY THEFT ($950 & UNDER)': 'Property',\n",
    "    'BURGLARY FROM VEHICLE': 'Property',\n",
    "    'LETTERS, LEWD  -  TELEPHONE CALLS, LEWD': 'Mixed',\n",
    "    'THEFT-GRAND ($950.01 & OVER)EXCPT,GUNS,FOWL,LIVESTK,PROD': 'Property',\n",
    "    'BATTERY WITH SEXUAL CONTACT': 'Violent',\n",
    "    'INTIMATE PARTNER - SIMPLE ASSAULT': 'Violent',\n",
    "    'CRM AGNST CHLD (13 OR UNDER) (14-15 & SUSP 10 YRS OLDER)': 'Sexual',\n",
    "    'BATTERY ON A FIREFIGHTER': 'Violent',\n",
    "    'CHILD STEALING': 'Violent',\n",
    "    'SEXUAL PENETRATION W/FOREIGN OBJECT': 'Sexual',\n",
    "    'BUNCO, GRAND THEFT': 'Fraud',\n",
    "    'THEFT FROM MOTOR VEHICLE - GRAND ($950.01 AND OVER)': 'Property',\n",
    "    'CHILD ANNOYING (17YRS & UNDER)': 'Sexual',\n",
    "    'CRIMINAL HOMICIDE': 'Violent',\n",
    "    'THEFT PLAIN - PETTY ($950 & UNDER)': 'Property',\n",
    "    'ORAL COPULATION': 'Sexual',\n",
    "    'VEHICLE - STOLEN': 'Property',\n",
    "    'SEX,UNLAWFUL(INC MUTUAL CONSENT, PENETRATION W/ FRGN OBJ': 'Sexual',\n",
    "    'UNAUTHORIZED COMPUTER ACCESS': 'Fraud',\n",
    "    'EMBEZZLEMENT, GRAND THEFT ($950.01 & OVER)': 'Fraud',\n",
    "    'STALKING': 'Violent',\n",
    "    'INTIMATE PARTNER - AGGRAVATED ASSAULT': 'Violent',\n",
    "    'RAPE, FORCIBLE': 'Sexual',\n",
    "    'VANDALISM - FELONY ($400 & OVER, ALL CHURCH VANDALISMS)': 'Property',\n",
    "    'ASSAULT WITH DEADLY WEAPON, AGGRAVATED ASSAULT': 'Violent',\n",
    "    'BURGLARY': 'Property',\n",
    "    'BATTERY - SIMPLE ASSAULT': 'Violent',\n",
    "    'THEFT FROM MOTOR VEHICLE - PETTY ($950 & UNDER)': 'Property',\n",
    "    'HUMAN TRAFFICKING - COMMERCIAL SEX ACTS': 'Sexual',\n",
    "    'SEX OFFENDER REGISTRANT OUT OF COMPLIANCE': 'Sexual',\n",
    "    'OTHER Mixed CRIME': 'Mixed',\n",
    "    'BUNCO, ATTEMPT': 'Fraud',\n",
    "    'ROBBERY': 'Violent',\n",
    "    'CREDIT CARDS, FRAUD USE ($950.01 & OVER)': 'Fraud',\n",
    "    'TRESPASSING': 'Mixed',\n",
    "    'DOCUMENT WORTHLESS ($200.01 & OVER)': 'Fraud',\n",
    "    'LEWD/LASCIVIOUS ACTS WITH CHILD': 'Sexual',\n",
    "    'BRANDISH WEAPON': 'Violent',\n",
    "    'HUMAN TRAFFICKING - INVOLUNTARY SERVITUDE': 'Sexual',\n",
    "    'VEHICLE - ATTEMPT STOLEN': 'Property',\n",
    "    'CHILD ABUSE (PHYSICAL) - SIMPLE ASSAULT': 'Violent',\n",
    "    'CHILD PORNOGRAPHY': 'Sexual',\n",
    "    'SODOMY/SEXUAL CONTACT B/W PENIS OF ONE PERS TO ANUS OTH': 'Sexual',\n",
    "    'DISCHARGE FIREARMS/SHOTS FIRED': 'Violent',\n",
    "    'CRUELTY TO ANIMALS': 'Mixed',\n",
    "    'BIKE - STOLEN': 'Property',\n",
    "    'BUNCO, PETTY THEFT': 'Fraud',\n",
    "    'VANDALISM - MISDEAMEANOR ($399 OR UNDER)': 'Property',\n",
    "    'CRIMINAL THREATS - NO WEAPON DISPLAYED': 'Violent',\n",
    "    'EXTORTION': 'Fraud',\n",
    "    'VEHICLE, STOLEN - OTHER (MOTORIZED SCOOTERS, BIKES, ETC)': 'Property',\n",
    "    'VIOLATION OF COURT ORDER': 'Mixed',\n",
    "    'PEEPING TOM': 'Sexual',\n",
    "    'PICKPOCKET': 'Property',\n",
    "    'ARSON': 'Property',\n",
    "    'FAILURE TO YIELD': 'Mixed',\n",
    "    'EMBEZZLEMENT, PETTY THEFT ($950 & UNDER)': 'Fraud',\n",
    "    'SHOPLIFTING-GRAND THEFT ($950.01 & OVER)': 'Property',\n",
    "    'BIGAMY': 'Mixed',\n",
    "    'WEAPONS POSSESSION/BOMBING': 'Violent',\n",
    "    'CHILD ABUSE (PHYSICAL) - AGGRAVATED ASSAULT': 'Violent',\n",
    "    'DISTURBING THE PEACE': 'Mixed',\n",
    "    'THEFT, PERSON': 'Property',\n",
    "    'INDECENT EXPOSURE': 'Sexual',\n",
    "    'PROWLER': 'Mixed',\n",
    "    'LEWD CONDUCT': 'Sexual',\n",
    "    'CHILD NEGLECT (SEE 300 W.I.C.)': 'Mixed',\n",
    "    'MANSLAUGHTER, NEGLIGENT': 'Violent',\n",
    "    'BURGLARY, ATTEMPTED': 'Property',\n",
    "    'BATTERY POLICE (SIMPLE)': 'Violent',\n",
    "    'BOAT - STOLEN': 'Property',\n",
    "    'KIDNAPPING': 'Violent',\n",
    "    'OTHER ASSAULT': 'Violent',\n",
    "    'FALSE POLICE REPORT': 'Mixed',\n",
    "    'BOMB SCARE': 'Mixed',\n",
    "    'SHOTS FIRED AT MOVING VEHICLE, TRAIN OR AIRCRAFT': 'Violent',\n",
    "    'FALSE IMPRISONMENT': 'Violent',\n",
    "    'ATTEMPTED ROBBERY': 'Violent',\n",
    "    'THROWING OBJECT AT MOVING VEHICLE': 'Mixed',\n",
    "    'DISHONEST EMPLOYEE - GRAND THEFT': 'Fraud',\n",
    "    'RESISTING ARREST': 'Mixed',\n",
    "    'DISHONEST EMPLOYEE ATTEMPTED THEFT': 'Fraud',\n",
    "    'CREDIT CARDS, FRAUD USE ($950 & UNDER': 'Fraud',\n",
    "    'THEFT PLAIN - ATTEMPT': 'Property',\n",
    "    'THREATENING PHONE CALLS/LETTERS': 'Mixed',\n",
    "    'BURGLARY FROM VEHICLE, ATTEMPTED': 'Property',\n",
    "    'CONTRIBUTING': 'Mixed',\n",
    "    'PIMPING': 'Sexual',\n",
    "    'DEFRAUDING INNKEEPER/THEFT OF SERVICES, $950 & UNDER': 'Fraud',\n",
    "    'DOCUMENT WORTHLESS ($200 & UNDER)': 'Fraud',\n",
    "    'RAPE, ATTEMPTED': 'Sexual',\n",
    "    'VIOLATION OF TEMPORARY RESTRAINING ORDER': 'Mixed',\n",
    "    'SHOTS FIRED AT INHABITED DWELLING': 'Violent',\n",
    "    'PANDERING': 'Sexual',\n",
    "    'THEFT, COIN MACHINE - PETTY ($950 & UNDER)': 'Property',\n",
    "    'RECKLESS DRIVING': 'Mixed',\n",
    "    'THEFT FROM MOTOR VEHICLE - ATTEMPT': 'Property',\n",
    "    'DEFRAUDING INNKEEPER/THEFT OF SERVICES, OVER $950.01': 'Fraud',\n",
    "    'ASSAULT WITH DEADLY WEAPON ON POLICE OFFICER': 'Violent',\n",
    "    'DRIVING WITHOUT OWNER CONSENT (DWOC)': 'Property',\n",
    "    'KIDNAPPING - GRAND ATTEMPT': 'Violent',\n",
    "    'GRAND THEFT / INSURANCE FRAUD': 'Fraud',\n",
    "    'THEFT FROM PERSON - ATTEMPT': 'Property',\n",
    "    'INCITING A RIOT': 'Mixed',\n",
    "    'SHOPLIFTING - ATTEMPT': 'Property',\n",
    "    'COUNTERFEIT': 'Fraud',\n",
    "    'CONSPIRACY': 'Mixed',\n",
    "    'ILLEGAL DUMPING': 'Mixed',\n",
    "    'DISHONEST EMPLOYEE - PETTY THEFT': 'Fraud',\n",
    "    'TILL TAP - GRAND THEFT ($950.01 & OVER)': 'Property',\n",
    "    'FAILURE TO DISPERSE': 'Mixed',\n",
    "    'REPLICA FIREARMS(SALE,DISPLAY,MANUFACTURE OR DISTRIBUTE)': 'Mixed',\n",
    "    'TELEPHONE PROPERTY - DAMAGE': 'Property',\n",
    "    'PURSE SNATCHING - ATTEMPT': 'Property',\n",
    "    'PURSE SNATCHING': 'Property',\n",
    "    'LYNCHING': 'Violent',\n",
    "    'CHILD ABANDONMENT': 'Mixed',\n",
    "    'THEFT, COIN MACHINE - ATTEMPT': 'Property',\n",
    "    'INCEST (SEXUAL ACTS BETWEEN BLOOD RELATIVES)': 'Sexual',\n",
    "    'TRAIN WRECKING': 'Mixed',\n",
    "    'TILL TAP - PETTY ($950 & UNDER)': 'Property',\n",
    "    'DISRUPT SCHOOL': 'Mixed',\n",
    "    'DRUNK ROLL': 'Mixed',\n",
    "    'PICKPOCKET, ATTEMPT': 'Property'\n",
    "}\n",
    "\n",
    "data_recent[\"Crm Cd Desc\"] = data_recent[\"Crm Cd Desc\"].map(crime_categories)"
   ],
   "metadata": {
    "collapsed": false,
    "ExecuteTime": {
     "end_time": "2024-06-07T11:21:34.949537800Z",
     "start_time": "2024-06-07T11:21:34.937176500Z"
    }
   },
   "id": "5e3bb6020ba12395"
  },
  {
   "cell_type": "code",
   "execution_count": 35,
   "outputs": [],
   "source": [
    "data_recent[\"Crm Cd Desc\"].fillna(\"Mixed\", inplace=True)"
   ],
   "metadata": {
    "collapsed": false,
    "ExecuteTime": {
     "end_time": "2024-06-07T11:21:34.963435100Z",
     "start_time": "2024-06-07T11:21:34.949537800Z"
    }
   },
   "id": "3a62151346359467"
  },
  {
   "cell_type": "code",
   "execution_count": 36,
   "outputs": [],
   "source": [
    "data_recent.to_csv(\"data/dataset_recent.csv\")"
   ],
   "metadata": {
    "collapsed": false,
    "ExecuteTime": {
     "end_time": "2024-06-07T11:21:35.991328Z",
     "start_time": "2024-06-07T11:21:34.963435100Z"
    }
   },
   "id": "cccefbcf495d5fff"
  },
  {
   "cell_type": "markdown",
   "source": [],
   "metadata": {
    "collapsed": false
   },
   "id": "d2b9e2769976316f"
  },
  {
   "cell_type": "code",
   "execution_count": 40,
   "outputs": [
    {
     "name": "stdout",
     "output_type": "stream",
     "text": [
      "['N Hollywood' 'Hollywood' '77th Street' 'Van Nuys' 'Southeast'\n",
      " 'Southwest' 'Central' 'Pacific' 'Wilshire' 'Northeast' 'Newton' 'Olympic'\n",
      " 'Rampart' 'Mission' 'Topanga' 'Devonshire' 'Hollenbeck' 'West Valley'\n",
      " 'Harbor' 'West LA' 'Foothill']\n"
     ]
    }
   ],
   "source": [
    "print(data_recent[\"AREA NAME\"].unique())"
   ],
   "metadata": {
    "collapsed": false,
    "ExecuteTime": {
     "end_time": "2024-06-07T11:36:43.952250500Z",
     "start_time": "2024-06-07T11:36:43.909779100Z"
    }
   },
   "id": "522efdeaceff12c9"
  },
  {
   "cell_type": "markdown",
   "source": [
    "# Suka breakdown"
   ],
   "metadata": {
    "collapsed": false
   },
   "id": "546a842c7f268c92"
  },
  {
   "cell_type": "code",
   "execution_count": 28,
   "outputs": [
    {
     "data": {
      "text/plain": "Vict Sex\nM    27531\nF    24479\nX     9708\nH       12\nName: count, dtype: int64"
     },
     "execution_count": 28,
     "metadata": {},
     "output_type": "execute_result"
    }
   ],
   "source": [
    "data_recent['Vict Sex'].value_counts()"
   ],
   "metadata": {
    "collapsed": false,
    "ExecuteTime": {
     "end_time": "2024-06-06T14:15:59.375353300Z",
     "start_time": "2024-06-06T14:15:59.366186400Z"
    }
   },
   "id": "204d6db3e3e3e327"
  },
  {
   "cell_type": "code",
   "execution_count": null,
   "outputs": [],
   "source": [
    "case_statuses = data_recent[\"Status Desc\"].unique()"
   ],
   "metadata": {
    "collapsed": false
   },
   "id": "ad0d42ec35bc8f5b"
  },
  {
   "cell_type": "code",
   "execution_count": null,
   "outputs": [],
   "source": [
    "data_recent[\"Status Desc\"].value_counts()"
   ],
   "metadata": {
    "collapsed": false
   },
   "id": "e5f8eb31a9db9a76"
  },
  {
   "cell_type": "code",
   "execution_count": null,
   "outputs": [],
   "source": [
    "data_recent[\"Vict Descent\"].value_counts()"
   ],
   "metadata": {
    "collapsed": false
   },
   "id": "b0d34fdc8c58d371"
  },
  {
   "cell_type": "code",
   "execution_count": null,
   "outputs": [],
   "source": [
    "f"
   ],
   "metadata": {
    "collapsed": false
   },
   "id": "5d4b0dd8f4f0cce7"
  },
  {
   "cell_type": "code",
   "execution_count": 26,
   "outputs": [
    {
     "data": {
      "text/plain": "Crm Cd Desc\nProperty    42694\nViolent     18848\nFraud        5641\nMixed        4749\nSexual       1077\nName: count, dtype: int64"
     },
     "execution_count": 26,
     "metadata": {},
     "output_type": "execute_result"
    }
   ],
   "source": [
    "data_recent[\"Crm Cd Desc\"].value_counts()"
   ],
   "metadata": {
    "collapsed": false,
    "ExecuteTime": {
     "end_time": "2024-06-07T11:01:50.190325500Z",
     "start_time": "2024-06-07T11:01:50.153232600Z"
    }
   },
   "id": "f84b0ac427269f5c"
  },
  {
   "cell_type": "code",
   "execution_count": null,
   "outputs": [],
   "source": [
    "data_recent[data_recent[\"Crm Cd Desc\"] == \"ASSAULT WITH DEADLY WEAPON, AGGRAVATED ASSAULT\"][\"Vict Descent\"].value_counts()"
   ],
   "metadata": {
    "collapsed": false
   },
   "id": "d6a0e2e83d855274"
  },
  {
   "cell_type": "code",
   "execution_count": 10,
   "outputs": [
    {
     "name": "stdout",
     "output_type": "stream",
     "text": [
      "['CONTEMPT OF COURT' 'THEFT OF IDENTITY' 'VIOLATION OF RESTRAINING ORDER'\n",
      " 'DOCUMENT FORGERY / STOLEN FELONY'\n",
      " 'SHOPLIFTING - PETTY THEFT ($950 & UNDER)' 'BURGLARY FROM VEHICLE'\n",
      " 'LETTERS, LEWD  -  TELEPHONE CALLS, LEWD'\n",
      " 'THEFT-GRAND ($950.01 & OVER)EXCPT,GUNS,FOWL,LIVESTK,PROD'\n",
      " 'BATTERY WITH SEXUAL CONTACT' 'INTIMATE PARTNER - SIMPLE ASSAULT'\n",
      " 'CRM AGNST CHLD (13 OR UNDER) (14-15 & SUSP 10 YRS OLDER)'\n",
      " 'BATTERY ON A FIREFIGHTER' 'CHILD STEALING'\n",
      " 'SEXUAL PENETRATION W/FOREIGN OBJECT' 'BUNCO, GRAND THEFT'\n",
      " 'THEFT FROM MOTOR VEHICLE - GRAND ($950.01 AND OVER)'\n",
      " 'CHILD ANNOYING (17YRS & UNDER)' 'CRIMINAL HOMICIDE'\n",
      " 'THEFT PLAIN - PETTY ($950 & UNDER)' 'ORAL COPULATION' 'VEHICLE - STOLEN'\n",
      " 'SEX,UNLAWFUL(INC MUTUAL CONSENT, PENETRATION W/ FRGN OBJ'\n",
      " 'UNAUTHORIZED COMPUTER ACCESS'\n",
      " 'EMBEZZLEMENT, GRAND THEFT ($950.01 & OVER)' 'STALKING'\n",
      " 'INTIMATE PARTNER - AGGRAVATED ASSAULT' 'RAPE, FORCIBLE'\n",
      " 'VANDALISM - FELONY ($400 & OVER, ALL CHURCH VANDALISMS)'\n",
      " 'ASSAULT WITH DEADLY WEAPON, AGGRAVATED ASSAULT' 'BURGLARY'\n",
      " 'BATTERY - SIMPLE ASSAULT'\n",
      " 'THEFT FROM MOTOR VEHICLE - PETTY ($950 & UNDER)'\n",
      " 'HUMAN TRAFFICKING - COMMERCIAL SEX ACTS'\n",
      " 'SEX OFFENDER REGISTRANT OUT OF COMPLIANCE' 'OTHER MISCELLANEOUS CRIME'\n",
      " 'BUNCO, ATTEMPT' 'ROBBERY' 'CREDIT CARDS, FRAUD USE ($950.01 & OVER)'\n",
      " 'TRESPASSING' 'DOCUMENT WORTHLESS ($200.01 & OVER)'\n",
      " 'LEWD/LASCIVIOUS ACTS WITH CHILD' 'BRANDISH WEAPON'\n",
      " 'HUMAN TRAFFICKING - INVOLUNTARY SERVITUDE' 'VEHICLE - ATTEMPT STOLEN'\n",
      " 'CHILD ABUSE (PHYSICAL) - SIMPLE ASSAULT' 'CHILD PORNOGRAPHY'\n",
      " 'SODOMY/SEXUAL CONTACT B/W PENIS OF ONE PERS TO ANUS OTH'\n",
      " 'DISCHARGE FIREARMS/SHOTS FIRED' 'CRUELTY TO ANIMALS' 'BIKE - STOLEN'\n",
      " 'BUNCO, PETTY THEFT' 'VANDALISM - MISDEAMEANOR ($399 OR UNDER)'\n",
      " 'CRIMINAL THREATS - NO WEAPON DISPLAYED' 'EXTORTION'\n",
      " 'VEHICLE, STOLEN - OTHER (MOTORIZED SCOOTERS, BIKES, ETC)'\n",
      " 'VIOLATION OF COURT ORDER' 'PEEPING TOM' 'PICKPOCKET' 'ARSON'\n",
      " 'FAILURE TO YIELD' 'EMBEZZLEMENT, PETTY THEFT ($950 & UNDER)'\n",
      " 'SHOPLIFTING-GRAND THEFT ($950.01 & OVER)' 'BIGAMY'\n",
      " 'WEAPONS POSSESSION/BOMBING'\n",
      " 'CHILD ABUSE (PHYSICAL) - AGGRAVATED ASSAULT' 'DISTURBING THE PEACE'\n",
      " 'THEFT, PERSON' 'INDECENT EXPOSURE' 'PROWLER' 'LEWD CONDUCT'\n",
      " 'CHILD NEGLECT (SEE 300 W.I.C.)' 'MANSLAUGHTER, NEGLIGENT'\n",
      " 'BURGLARY, ATTEMPTED' 'BATTERY POLICE (SIMPLE)' 'BOAT - STOLEN'\n",
      " 'KIDNAPPING' 'OTHER ASSAULT' 'FALSE POLICE REPORT' 'BOMB SCARE'\n",
      " 'SHOTS FIRED AT MOVING VEHICLE, TRAIN OR AIRCRAFT' 'FALSE IMPRISONMENT'\n",
      " 'ATTEMPTED ROBBERY' 'THROWING OBJECT AT MOVING VEHICLE'\n",
      " 'DISHONEST EMPLOYEE - GRAND THEFT' 'RESISTING ARREST'\n",
      " 'DISHONEST EMPLOYEE ATTEMPTED THEFT'\n",
      " 'CREDIT CARDS, FRAUD USE ($950 & UNDER' 'THEFT PLAIN - ATTEMPT'\n",
      " 'THREATENING PHONE CALLS/LETTERS' 'BURGLARY FROM VEHICLE, ATTEMPTED'\n",
      " 'CONTRIBUTING' 'PIMPING'\n",
      " 'DEFRAUDING INNKEEPER/THEFT OF SERVICES, $950 & UNDER'\n",
      " 'DOCUMENT WORTHLESS ($200 & UNDER)' 'RAPE, ATTEMPTED'\n",
      " 'VIOLATION OF TEMPORARY RESTRAINING ORDER'\n",
      " 'SHOTS FIRED AT INHABITED DWELLING' 'PANDERING'\n",
      " 'THEFT, COIN MACHINE - PETTY ($950 & UNDER)' 'RECKLESS DRIVING'\n",
      " 'THEFT FROM MOTOR VEHICLE - ATTEMPT'\n",
      " 'DEFRAUDING INNKEEPER/THEFT OF SERVICES, OVER $950.01'\n",
      " 'ASSAULT WITH DEADLY WEAPON ON POLICE OFFICER'\n",
      " 'DRIVING WITHOUT OWNER CONSENT (DWOC)' 'KIDNAPPING - GRAND ATTEMPT'\n",
      " 'GRAND THEFT / INSURANCE FRAUD' 'THEFT FROM PERSON - ATTEMPT'\n",
      " 'INCITING A RIOT' 'SHOPLIFTING - ATTEMPT' 'COUNTERFEIT' 'CONSPIRACY'\n",
      " 'ILLEGAL DUMPING' 'DISHONEST EMPLOYEE - PETTY THEFT'\n",
      " 'TILL TAP - GRAND THEFT ($950.01 & OVER)' 'FAILURE TO DISPERSE'\n",
      " 'REPLICA FIREARMS(SALE,DISPLAY,MANUFACTURE OR DISTRIBUTE)'\n",
      " 'TELEPHONE PROPERTY - DAMAGE' 'PURSE SNATCHING - ATTEMPT'\n",
      " 'PURSE SNATCHING' 'LYNCHING' 'CHILD ABANDONMENT'\n",
      " 'THEFT, COIN MACHINE - ATTEMPT'\n",
      " 'INCEST (SEXUAL ACTS BETWEEN BLOOD RELATIVES)' 'TRAIN WRECKING'\n",
      " 'TILL TAP - PETTY ($950 & UNDER)' 'DISRUPT SCHOOL' 'DRUNK ROLL'\n",
      " 'PICKPOCKET, ATTEMPT']\n"
     ]
    }
   ],
   "source": [
    "print(data_recent[\"Crm Cd Desc\"].unique())"
   ],
   "metadata": {
    "collapsed": false,
    "ExecuteTime": {
     "end_time": "2024-06-07T10:48:42.118641500Z",
     "start_time": "2024-06-07T10:48:42.084913500Z"
    }
   },
   "id": "a12973f5b8a2f515"
  },
  {
   "cell_type": "code",
   "execution_count": 17,
   "outputs": [],
   "source": [],
   "metadata": {
    "collapsed": false,
    "ExecuteTime": {
     "end_time": "2024-06-07T11:00:55.570105600Z",
     "start_time": "2024-06-07T11:00:55.537066900Z"
    }
   },
   "id": "69389c83cd7e3d86"
  },
  {
   "cell_type": "code",
   "execution_count": null,
   "outputs": [],
   "source": [],
   "metadata": {
    "collapsed": false
   },
   "id": "ef52351f8cdafdd7"
  }
 ],
 "metadata": {
  "kernelspec": {
   "display_name": "Python 3",
   "language": "python",
   "name": "python3"
  },
  "language_info": {
   "codemirror_mode": {
    "name": "ipython",
    "version": 2
   },
   "file_extension": ".py",
   "mimetype": "text/x-python",
   "name": "python",
   "nbconvert_exporter": "python",
   "pygments_lexer": "ipython2",
   "version": "2.7.6"
  }
 },
 "nbformat": 4,
 "nbformat_minor": 5
}
