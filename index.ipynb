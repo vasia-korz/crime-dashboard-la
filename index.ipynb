{
 "cells": [
  {
   "cell_type": "code",
   "execution_count": 2,
   "id": "initial_id",
   "metadata": {
    "collapsed": true,
    "ExecuteTime": {
     "end_time": "2024-06-06T11:33:43.881824700Z",
     "start_time": "2024-06-06T11:33:41.796528200Z"
    }
   },
   "outputs": [],
   "source": [
    "import pandas as pd\n",
    "import numpy as np"
   ]
  },
  {
   "cell_type": "code",
   "execution_count": 3,
   "outputs": [],
   "source": [
    "data = pd.read_csv(\"data/dataset.csv\")"
   ],
   "metadata": {
    "collapsed": false,
    "ExecuteTime": {
     "end_time": "2024-06-06T11:33:47.465122600Z",
     "start_time": "2024-06-06T11:33:43.880676100Z"
    }
   },
   "id": "d07f2d20d314050a"
  },
  {
   "cell_type": "code",
   "execution_count": 3,
   "outputs": [
    {
     "data": {
      "text/plain": "            DR_NO               Date Rptd                DATE OCC  TIME OCC  \\\n0       190326475  03/01/2020 12:00:00 AM  03/01/2020 12:00:00 AM      2130   \n1       200106753  02/09/2020 12:00:00 AM  02/08/2020 12:00:00 AM      1800   \n2       200320258  11/11/2020 12:00:00 AM  11/04/2020 12:00:00 AM      1700   \n3       200907217  05/10/2023 12:00:00 AM  03/10/2020 12:00:00 AM      2037   \n4       220614831  08/18/2022 12:00:00 AM  08/17/2020 12:00:00 AM      1200   \n...           ...                     ...                     ...       ...   \n944230  242106032  02/20/2024 12:00:00 AM  02/17/2024 12:00:00 AM      2330   \n944231  242004546  01/16/2024 12:00:00 AM  01/16/2024 12:00:00 AM      1510   \n944232  240104953  01/15/2024 12:00:00 AM  01/15/2024 12:00:00 AM       100   \n944233  240309674  04/24/2024 12:00:00 AM  04/24/2024 12:00:00 AM      1500   \n944234  240900704  04/29/2024 12:00:00 AM  04/29/2024 12:00:00 AM      2020   \n\n        AREA  AREA NAME  Rpt Dist No  Part 1-2  Crm Cd  \\\n0          7   Wilshire          784         1     510   \n1          1    Central          182         1     330   \n2          3  Southwest          356         1     480   \n3          9   Van Nuys          964         1     343   \n4          6  Hollywood          666         2     354   \n...      ...        ...          ...       ...     ...   \n944230    21    Topanga         2103         1     420   \n944231    20    Olympic         2013         2     624   \n944232     1    Central          101         2     745   \n944233     3  Southwest          358         1     230   \n944234     9   Van Nuys          916         2     740   \n\n                                              Crm Cd Desc  ... Status  \\\n0                                        VEHICLE - STOLEN  ...     AA   \n1                                   BURGLARY FROM VEHICLE  ...     IC   \n2                                           BIKE - STOLEN  ...     IC   \n3                SHOPLIFTING-GRAND THEFT ($950.01 & OVER)  ...     IC   \n4                                       THEFT OF IDENTITY  ...     IC   \n...                                                   ...  ...    ...   \n944230    THEFT FROM MOTOR VEHICLE - PETTY ($950 & UNDER)  ...     IC   \n944231                           BATTERY - SIMPLE ASSAULT  ...     IC   \n944232           VANDALISM - MISDEAMEANOR ($399 OR UNDER)  ...     IC   \n944233     ASSAULT WITH DEADLY WEAPON, AGGRAVATED ASSAULT  ...     IC   \n944234  VANDALISM - FELONY ($400 & OVER, ALL CHURCH VA...  ...     IC   \n\n         Status Desc Crm Cd 1 Crm Cd 2  Crm Cd 3 Crm Cd 4  \\\n0       Adult Arrest    510.0    998.0       NaN      NaN   \n1        Invest Cont    330.0    998.0       NaN      NaN   \n2        Invest Cont    480.0      NaN       NaN      NaN   \n3        Invest Cont    343.0      NaN       NaN      NaN   \n4        Invest Cont    354.0      NaN       NaN      NaN   \n...              ...      ...      ...       ...      ...   \n944230   Invest Cont    420.0      NaN       NaN      NaN   \n944231   Invest Cont    624.0      NaN       NaN      NaN   \n944232   Invest Cont    745.0      NaN       NaN      NaN   \n944233   Invest Cont    230.0      NaN       NaN      NaN   \n944234   Invest Cont    740.0    998.0       NaN      NaN   \n\n                                        LOCATION  \\\n0        1900 S  LONGWOOD                     AV   \n1        1000 S  FLOWER                       ST   \n2        1400 W  37TH                         ST   \n3       14000    RIVERSIDE                    DR   \n4                              1900    TRANSIENT   \n...                                          ...   \n944230  22700    NAPA                         ST   \n944231           HOBART                       BL   \n944232   1300 W  SUNSET                       BL   \n944233           FLOWER                       ST   \n944234   6800    HAZELTINE                    AV   \n\n                           Cross Street      LAT       LON  \n0                                   NaN  34.0375 -118.3506  \n1                                   NaN  34.0444 -118.2628  \n2                                   NaN  34.0210 -118.3002  \n3                                   NaN  34.1576 -118.4387  \n4                                   NaN  34.0944 -118.3277  \n...                                 ...      ...       ...  \n944230                              NaN  34.2260 -118.6214  \n944231  3RD                          ST  34.0690 -118.3054  \n944232                              NaN  34.0685 -118.2460  \n944233  JEFFERSON                    BL  34.0215 -118.2868  \n944234                              NaN  34.1939 -118.4400  \n\n[944235 rows x 28 columns]",
      "text/html": "<div>\n<style scoped>\n    .dataframe tbody tr th:only-of-type {\n        vertical-align: middle;\n    }\n\n    .dataframe tbody tr th {\n        vertical-align: top;\n    }\n\n    .dataframe thead th {\n        text-align: right;\n    }\n</style>\n<table border=\"1\" class=\"dataframe\">\n  <thead>\n    <tr style=\"text-align: right;\">\n      <th></th>\n      <th>DR_NO</th>\n      <th>Date Rptd</th>\n      <th>DATE OCC</th>\n      <th>TIME OCC</th>\n      <th>AREA</th>\n      <th>AREA NAME</th>\n      <th>Rpt Dist No</th>\n      <th>Part 1-2</th>\n      <th>Crm Cd</th>\n      <th>Crm Cd Desc</th>\n      <th>...</th>\n      <th>Status</th>\n      <th>Status Desc</th>\n      <th>Crm Cd 1</th>\n      <th>Crm Cd 2</th>\n      <th>Crm Cd 3</th>\n      <th>Crm Cd 4</th>\n      <th>LOCATION</th>\n      <th>Cross Street</th>\n      <th>LAT</th>\n      <th>LON</th>\n    </tr>\n  </thead>\n  <tbody>\n    <tr>\n      <th>0</th>\n      <td>190326475</td>\n      <td>03/01/2020 12:00:00 AM</td>\n      <td>03/01/2020 12:00:00 AM</td>\n      <td>2130</td>\n      <td>7</td>\n      <td>Wilshire</td>\n      <td>784</td>\n      <td>1</td>\n      <td>510</td>\n      <td>VEHICLE - STOLEN</td>\n      <td>...</td>\n      <td>AA</td>\n      <td>Adult Arrest</td>\n      <td>510.0</td>\n      <td>998.0</td>\n      <td>NaN</td>\n      <td>NaN</td>\n      <td>1900 S  LONGWOOD                     AV</td>\n      <td>NaN</td>\n      <td>34.0375</td>\n      <td>-118.3506</td>\n    </tr>\n    <tr>\n      <th>1</th>\n      <td>200106753</td>\n      <td>02/09/2020 12:00:00 AM</td>\n      <td>02/08/2020 12:00:00 AM</td>\n      <td>1800</td>\n      <td>1</td>\n      <td>Central</td>\n      <td>182</td>\n      <td>1</td>\n      <td>330</td>\n      <td>BURGLARY FROM VEHICLE</td>\n      <td>...</td>\n      <td>IC</td>\n      <td>Invest Cont</td>\n      <td>330.0</td>\n      <td>998.0</td>\n      <td>NaN</td>\n      <td>NaN</td>\n      <td>1000 S  FLOWER                       ST</td>\n      <td>NaN</td>\n      <td>34.0444</td>\n      <td>-118.2628</td>\n    </tr>\n    <tr>\n      <th>2</th>\n      <td>200320258</td>\n      <td>11/11/2020 12:00:00 AM</td>\n      <td>11/04/2020 12:00:00 AM</td>\n      <td>1700</td>\n      <td>3</td>\n      <td>Southwest</td>\n      <td>356</td>\n      <td>1</td>\n      <td>480</td>\n      <td>BIKE - STOLEN</td>\n      <td>...</td>\n      <td>IC</td>\n      <td>Invest Cont</td>\n      <td>480.0</td>\n      <td>NaN</td>\n      <td>NaN</td>\n      <td>NaN</td>\n      <td>1400 W  37TH                         ST</td>\n      <td>NaN</td>\n      <td>34.0210</td>\n      <td>-118.3002</td>\n    </tr>\n    <tr>\n      <th>3</th>\n      <td>200907217</td>\n      <td>05/10/2023 12:00:00 AM</td>\n      <td>03/10/2020 12:00:00 AM</td>\n      <td>2037</td>\n      <td>9</td>\n      <td>Van Nuys</td>\n      <td>964</td>\n      <td>1</td>\n      <td>343</td>\n      <td>SHOPLIFTING-GRAND THEFT ($950.01 &amp; OVER)</td>\n      <td>...</td>\n      <td>IC</td>\n      <td>Invest Cont</td>\n      <td>343.0</td>\n      <td>NaN</td>\n      <td>NaN</td>\n      <td>NaN</td>\n      <td>14000    RIVERSIDE                    DR</td>\n      <td>NaN</td>\n      <td>34.1576</td>\n      <td>-118.4387</td>\n    </tr>\n    <tr>\n      <th>4</th>\n      <td>220614831</td>\n      <td>08/18/2022 12:00:00 AM</td>\n      <td>08/17/2020 12:00:00 AM</td>\n      <td>1200</td>\n      <td>6</td>\n      <td>Hollywood</td>\n      <td>666</td>\n      <td>2</td>\n      <td>354</td>\n      <td>THEFT OF IDENTITY</td>\n      <td>...</td>\n      <td>IC</td>\n      <td>Invest Cont</td>\n      <td>354.0</td>\n      <td>NaN</td>\n      <td>NaN</td>\n      <td>NaN</td>\n      <td>1900    TRANSIENT</td>\n      <td>NaN</td>\n      <td>34.0944</td>\n      <td>-118.3277</td>\n    </tr>\n    <tr>\n      <th>...</th>\n      <td>...</td>\n      <td>...</td>\n      <td>...</td>\n      <td>...</td>\n      <td>...</td>\n      <td>...</td>\n      <td>...</td>\n      <td>...</td>\n      <td>...</td>\n      <td>...</td>\n      <td>...</td>\n      <td>...</td>\n      <td>...</td>\n      <td>...</td>\n      <td>...</td>\n      <td>...</td>\n      <td>...</td>\n      <td>...</td>\n      <td>...</td>\n      <td>...</td>\n      <td>...</td>\n    </tr>\n    <tr>\n      <th>944230</th>\n      <td>242106032</td>\n      <td>02/20/2024 12:00:00 AM</td>\n      <td>02/17/2024 12:00:00 AM</td>\n      <td>2330</td>\n      <td>21</td>\n      <td>Topanga</td>\n      <td>2103</td>\n      <td>1</td>\n      <td>420</td>\n      <td>THEFT FROM MOTOR VEHICLE - PETTY ($950 &amp; UNDER)</td>\n      <td>...</td>\n      <td>IC</td>\n      <td>Invest Cont</td>\n      <td>420.0</td>\n      <td>NaN</td>\n      <td>NaN</td>\n      <td>NaN</td>\n      <td>22700    NAPA                         ST</td>\n      <td>NaN</td>\n      <td>34.2260</td>\n      <td>-118.6214</td>\n    </tr>\n    <tr>\n      <th>944231</th>\n      <td>242004546</td>\n      <td>01/16/2024 12:00:00 AM</td>\n      <td>01/16/2024 12:00:00 AM</td>\n      <td>1510</td>\n      <td>20</td>\n      <td>Olympic</td>\n      <td>2013</td>\n      <td>2</td>\n      <td>624</td>\n      <td>BATTERY - SIMPLE ASSAULT</td>\n      <td>...</td>\n      <td>IC</td>\n      <td>Invest Cont</td>\n      <td>624.0</td>\n      <td>NaN</td>\n      <td>NaN</td>\n      <td>NaN</td>\n      <td>HOBART                       BL</td>\n      <td>3RD                          ST</td>\n      <td>34.0690</td>\n      <td>-118.3054</td>\n    </tr>\n    <tr>\n      <th>944232</th>\n      <td>240104953</td>\n      <td>01/15/2024 12:00:00 AM</td>\n      <td>01/15/2024 12:00:00 AM</td>\n      <td>100</td>\n      <td>1</td>\n      <td>Central</td>\n      <td>101</td>\n      <td>2</td>\n      <td>745</td>\n      <td>VANDALISM - MISDEAMEANOR ($399 OR UNDER)</td>\n      <td>...</td>\n      <td>IC</td>\n      <td>Invest Cont</td>\n      <td>745.0</td>\n      <td>NaN</td>\n      <td>NaN</td>\n      <td>NaN</td>\n      <td>1300 W  SUNSET                       BL</td>\n      <td>NaN</td>\n      <td>34.0685</td>\n      <td>-118.2460</td>\n    </tr>\n    <tr>\n      <th>944233</th>\n      <td>240309674</td>\n      <td>04/24/2024 12:00:00 AM</td>\n      <td>04/24/2024 12:00:00 AM</td>\n      <td>1500</td>\n      <td>3</td>\n      <td>Southwest</td>\n      <td>358</td>\n      <td>1</td>\n      <td>230</td>\n      <td>ASSAULT WITH DEADLY WEAPON, AGGRAVATED ASSAULT</td>\n      <td>...</td>\n      <td>IC</td>\n      <td>Invest Cont</td>\n      <td>230.0</td>\n      <td>NaN</td>\n      <td>NaN</td>\n      <td>NaN</td>\n      <td>FLOWER                       ST</td>\n      <td>JEFFERSON                    BL</td>\n      <td>34.0215</td>\n      <td>-118.2868</td>\n    </tr>\n    <tr>\n      <th>944234</th>\n      <td>240900704</td>\n      <td>04/29/2024 12:00:00 AM</td>\n      <td>04/29/2024 12:00:00 AM</td>\n      <td>2020</td>\n      <td>9</td>\n      <td>Van Nuys</td>\n      <td>916</td>\n      <td>2</td>\n      <td>740</td>\n      <td>VANDALISM - FELONY ($400 &amp; OVER, ALL CHURCH VA...</td>\n      <td>...</td>\n      <td>IC</td>\n      <td>Invest Cont</td>\n      <td>740.0</td>\n      <td>998.0</td>\n      <td>NaN</td>\n      <td>NaN</td>\n      <td>6800    HAZELTINE                    AV</td>\n      <td>NaN</td>\n      <td>34.1939</td>\n      <td>-118.4400</td>\n    </tr>\n  </tbody>\n</table>\n<p>944235 rows × 28 columns</p>\n</div>"
     },
     "execution_count": 3,
     "metadata": {},
     "output_type": "execute_result"
    }
   ],
   "source": [
    "data"
   ],
   "metadata": {
    "collapsed": false,
    "ExecuteTime": {
     "end_time": "2024-06-05T13:03:08.383575600Z",
     "start_time": "2024-06-05T13:03:07.989177900Z"
    }
   },
   "id": "fe301244571cfc13"
  },
  {
   "cell_type": "code",
   "execution_count": 4,
   "outputs": [],
   "source": [
    "data_recent = data[\n",
    "    (data[\"Date Rptd\"].str.split().str[0].str[-4:] == \"2024\")\n",
    "]"
   ],
   "metadata": {
    "collapsed": false,
    "ExecuteTime": {
     "end_time": "2024-06-06T11:33:49.422984300Z",
     "start_time": "2024-06-06T11:33:47.440379900Z"
    }
   },
   "id": "802c6b186bed3900"
  },
  {
   "cell_type": "code",
   "execution_count": 5,
   "outputs": [],
   "source": [
    "data_recent = data_recent[data_recent[\"LAT\"] != 0]"
   ],
   "metadata": {
    "collapsed": false,
    "ExecuteTime": {
     "end_time": "2024-06-06T11:33:49.443563500Z",
     "start_time": "2024-06-06T11:33:49.424987400Z"
    }
   },
   "id": "5edf305be8cf56ac"
  },
  {
   "cell_type": "code",
   "execution_count": 6,
   "outputs": [
    {
     "data": {
      "text/plain": "            DR_NO               Date Rptd                DATE OCC  TIME OCC  \\\n50      241504067  01/02/2024 12:00:00 AM  12/29/2020 12:00:00 AM       750   \n61      240604173  01/05/2024 12:00:00 AM  07/09/2020 12:00:00 AM      1230   \n177     241204387  01/05/2024 12:00:00 AM  05/05/2020 12:00:00 AM      1025   \n191     241204463  01/07/2024 12:00:00 AM  06/07/2020 12:00:00 AM      1315   \n218     240604147  01/05/2024 12:00:00 AM  01/01/2020 12:00:00 AM      1405   \n...           ...                     ...                     ...       ...   \n944230  242106032  02/20/2024 12:00:00 AM  02/17/2024 12:00:00 AM      2330   \n944231  242004546  01/16/2024 12:00:00 AM  01/16/2024 12:00:00 AM      1510   \n944232  240104953  01/15/2024 12:00:00 AM  01/15/2024 12:00:00 AM       100   \n944233  240309674  04/24/2024 12:00:00 AM  04/24/2024 12:00:00 AM      1500   \n944234  240900704  04/29/2024 12:00:00 AM  04/29/2024 12:00:00 AM      2020   \n\n        AREA    AREA NAME  Rpt Dist No  Part 1-2  Crm Cd  \\\n50        15  N Hollywood         1555         2     903   \n61         6    Hollywood          637         2     354   \n177       12  77th Street         1269         2     354   \n191       12  77th Street         1293         2     354   \n218        6    Hollywood          646         2     354   \n...      ...          ...          ...       ...     ...   \n944230    21      Topanga         2103         1     420   \n944231    20      Olympic         2013         2     624   \n944232     1      Central          101         2     745   \n944233     3    Southwest          358         1     230   \n944234     9     Van Nuys          916         2     740   \n\n                                              Crm Cd Desc  ... Status  \\\n50                                      CONTEMPT OF COURT  ...     IC   \n61                                      THEFT OF IDENTITY  ...     IC   \n177                                     THEFT OF IDENTITY  ...     IC   \n191                                     THEFT OF IDENTITY  ...     IC   \n218                                     THEFT OF IDENTITY  ...     IC   \n...                                                   ...  ...    ...   \n944230    THEFT FROM MOTOR VEHICLE - PETTY ($950 & UNDER)  ...     IC   \n944231                           BATTERY - SIMPLE ASSAULT  ...     IC   \n944232           VANDALISM - MISDEAMEANOR ($399 OR UNDER)  ...     IC   \n944233     ASSAULT WITH DEADLY WEAPON, AGGRAVATED ASSAULT  ...     IC   \n944234  VANDALISM - FELONY ($400 & OVER, ALL CHURCH VA...  ...     IC   \n\n        Status Desc Crm Cd 1 Crm Cd 2  Crm Cd 3 Crm Cd 4  \\\n50      Invest Cont    903.0      NaN       NaN      NaN   \n61      Invest Cont    354.0      NaN       NaN      NaN   \n177     Invest Cont    354.0      NaN       NaN      NaN   \n191     Invest Cont    354.0      NaN       NaN      NaN   \n218     Invest Cont    354.0      NaN       NaN      NaN   \n...             ...      ...      ...       ...      ...   \n944230  Invest Cont    420.0      NaN       NaN      NaN   \n944231  Invest Cont    624.0      NaN       NaN      NaN   \n944232  Invest Cont    745.0      NaN       NaN      NaN   \n944233  Invest Cont    230.0      NaN       NaN      NaN   \n944234  Invest Cont    740.0    998.0       NaN      NaN   \n\n                                        LOCATION  \\\n50       5000    TUJUNGA                      AV   \n61       6200    HOLLYWOOD                    BL   \n177       900 E  82ND                         ST   \n191     10200    RUTHELEN                     ST   \n218      1300    CHEROKEE                     AV   \n...                                          ...   \n944230  22700    NAPA                         ST   \n944231           HOBART                       BL   \n944232   1300 W  SUNSET                       BL   \n944233           FLOWER                       ST   \n944234   6800    HAZELTINE                    AV   \n\n                           Cross Street      LAT       LON  \n50                                  NaN  34.1614 -118.3790  \n61                                  NaN  34.1030 -118.3225  \n177                                 NaN  33.9647 -118.2586  \n191                                 NaN  33.9440 -118.3123  \n218                                 NaN  34.0944 -118.3352  \n...                                 ...      ...       ...  \n944230                              NaN  34.2260 -118.6214  \n944231  3RD                          ST  34.0690 -118.3054  \n944232                              NaN  34.0685 -118.2460  \n944233  JEFFERSON                    BL  34.0215 -118.2868  \n944234                              NaN  34.1939 -118.4400  \n\n[73530 rows x 28 columns]",
      "text/html": "<div>\n<style scoped>\n    .dataframe tbody tr th:only-of-type {\n        vertical-align: middle;\n    }\n\n    .dataframe tbody tr th {\n        vertical-align: top;\n    }\n\n    .dataframe thead th {\n        text-align: right;\n    }\n</style>\n<table border=\"1\" class=\"dataframe\">\n  <thead>\n    <tr style=\"text-align: right;\">\n      <th></th>\n      <th>DR_NO</th>\n      <th>Date Rptd</th>\n      <th>DATE OCC</th>\n      <th>TIME OCC</th>\n      <th>AREA</th>\n      <th>AREA NAME</th>\n      <th>Rpt Dist No</th>\n      <th>Part 1-2</th>\n      <th>Crm Cd</th>\n      <th>Crm Cd Desc</th>\n      <th>...</th>\n      <th>Status</th>\n      <th>Status Desc</th>\n      <th>Crm Cd 1</th>\n      <th>Crm Cd 2</th>\n      <th>Crm Cd 3</th>\n      <th>Crm Cd 4</th>\n      <th>LOCATION</th>\n      <th>Cross Street</th>\n      <th>LAT</th>\n      <th>LON</th>\n    </tr>\n  </thead>\n  <tbody>\n    <tr>\n      <th>50</th>\n      <td>241504067</td>\n      <td>01/02/2024 12:00:00 AM</td>\n      <td>12/29/2020 12:00:00 AM</td>\n      <td>750</td>\n      <td>15</td>\n      <td>N Hollywood</td>\n      <td>1555</td>\n      <td>2</td>\n      <td>903</td>\n      <td>CONTEMPT OF COURT</td>\n      <td>...</td>\n      <td>IC</td>\n      <td>Invest Cont</td>\n      <td>903.0</td>\n      <td>NaN</td>\n      <td>NaN</td>\n      <td>NaN</td>\n      <td>5000    TUJUNGA                      AV</td>\n      <td>NaN</td>\n      <td>34.1614</td>\n      <td>-118.3790</td>\n    </tr>\n    <tr>\n      <th>61</th>\n      <td>240604173</td>\n      <td>01/05/2024 12:00:00 AM</td>\n      <td>07/09/2020 12:00:00 AM</td>\n      <td>1230</td>\n      <td>6</td>\n      <td>Hollywood</td>\n      <td>637</td>\n      <td>2</td>\n      <td>354</td>\n      <td>THEFT OF IDENTITY</td>\n      <td>...</td>\n      <td>IC</td>\n      <td>Invest Cont</td>\n      <td>354.0</td>\n      <td>NaN</td>\n      <td>NaN</td>\n      <td>NaN</td>\n      <td>6200    HOLLYWOOD                    BL</td>\n      <td>NaN</td>\n      <td>34.1030</td>\n      <td>-118.3225</td>\n    </tr>\n    <tr>\n      <th>177</th>\n      <td>241204387</td>\n      <td>01/05/2024 12:00:00 AM</td>\n      <td>05/05/2020 12:00:00 AM</td>\n      <td>1025</td>\n      <td>12</td>\n      <td>77th Street</td>\n      <td>1269</td>\n      <td>2</td>\n      <td>354</td>\n      <td>THEFT OF IDENTITY</td>\n      <td>...</td>\n      <td>IC</td>\n      <td>Invest Cont</td>\n      <td>354.0</td>\n      <td>NaN</td>\n      <td>NaN</td>\n      <td>NaN</td>\n      <td>900 E  82ND                         ST</td>\n      <td>NaN</td>\n      <td>33.9647</td>\n      <td>-118.2586</td>\n    </tr>\n    <tr>\n      <th>191</th>\n      <td>241204463</td>\n      <td>01/07/2024 12:00:00 AM</td>\n      <td>06/07/2020 12:00:00 AM</td>\n      <td>1315</td>\n      <td>12</td>\n      <td>77th Street</td>\n      <td>1293</td>\n      <td>2</td>\n      <td>354</td>\n      <td>THEFT OF IDENTITY</td>\n      <td>...</td>\n      <td>IC</td>\n      <td>Invest Cont</td>\n      <td>354.0</td>\n      <td>NaN</td>\n      <td>NaN</td>\n      <td>NaN</td>\n      <td>10200    RUTHELEN                     ST</td>\n      <td>NaN</td>\n      <td>33.9440</td>\n      <td>-118.3123</td>\n    </tr>\n    <tr>\n      <th>218</th>\n      <td>240604147</td>\n      <td>01/05/2024 12:00:00 AM</td>\n      <td>01/01/2020 12:00:00 AM</td>\n      <td>1405</td>\n      <td>6</td>\n      <td>Hollywood</td>\n      <td>646</td>\n      <td>2</td>\n      <td>354</td>\n      <td>THEFT OF IDENTITY</td>\n      <td>...</td>\n      <td>IC</td>\n      <td>Invest Cont</td>\n      <td>354.0</td>\n      <td>NaN</td>\n      <td>NaN</td>\n      <td>NaN</td>\n      <td>1300    CHEROKEE                     AV</td>\n      <td>NaN</td>\n      <td>34.0944</td>\n      <td>-118.3352</td>\n    </tr>\n    <tr>\n      <th>...</th>\n      <td>...</td>\n      <td>...</td>\n      <td>...</td>\n      <td>...</td>\n      <td>...</td>\n      <td>...</td>\n      <td>...</td>\n      <td>...</td>\n      <td>...</td>\n      <td>...</td>\n      <td>...</td>\n      <td>...</td>\n      <td>...</td>\n      <td>...</td>\n      <td>...</td>\n      <td>...</td>\n      <td>...</td>\n      <td>...</td>\n      <td>...</td>\n      <td>...</td>\n      <td>...</td>\n    </tr>\n    <tr>\n      <th>944230</th>\n      <td>242106032</td>\n      <td>02/20/2024 12:00:00 AM</td>\n      <td>02/17/2024 12:00:00 AM</td>\n      <td>2330</td>\n      <td>21</td>\n      <td>Topanga</td>\n      <td>2103</td>\n      <td>1</td>\n      <td>420</td>\n      <td>THEFT FROM MOTOR VEHICLE - PETTY ($950 &amp; UNDER)</td>\n      <td>...</td>\n      <td>IC</td>\n      <td>Invest Cont</td>\n      <td>420.0</td>\n      <td>NaN</td>\n      <td>NaN</td>\n      <td>NaN</td>\n      <td>22700    NAPA                         ST</td>\n      <td>NaN</td>\n      <td>34.2260</td>\n      <td>-118.6214</td>\n    </tr>\n    <tr>\n      <th>944231</th>\n      <td>242004546</td>\n      <td>01/16/2024 12:00:00 AM</td>\n      <td>01/16/2024 12:00:00 AM</td>\n      <td>1510</td>\n      <td>20</td>\n      <td>Olympic</td>\n      <td>2013</td>\n      <td>2</td>\n      <td>624</td>\n      <td>BATTERY - SIMPLE ASSAULT</td>\n      <td>...</td>\n      <td>IC</td>\n      <td>Invest Cont</td>\n      <td>624.0</td>\n      <td>NaN</td>\n      <td>NaN</td>\n      <td>NaN</td>\n      <td>HOBART                       BL</td>\n      <td>3RD                          ST</td>\n      <td>34.0690</td>\n      <td>-118.3054</td>\n    </tr>\n    <tr>\n      <th>944232</th>\n      <td>240104953</td>\n      <td>01/15/2024 12:00:00 AM</td>\n      <td>01/15/2024 12:00:00 AM</td>\n      <td>100</td>\n      <td>1</td>\n      <td>Central</td>\n      <td>101</td>\n      <td>2</td>\n      <td>745</td>\n      <td>VANDALISM - MISDEAMEANOR ($399 OR UNDER)</td>\n      <td>...</td>\n      <td>IC</td>\n      <td>Invest Cont</td>\n      <td>745.0</td>\n      <td>NaN</td>\n      <td>NaN</td>\n      <td>NaN</td>\n      <td>1300 W  SUNSET                       BL</td>\n      <td>NaN</td>\n      <td>34.0685</td>\n      <td>-118.2460</td>\n    </tr>\n    <tr>\n      <th>944233</th>\n      <td>240309674</td>\n      <td>04/24/2024 12:00:00 AM</td>\n      <td>04/24/2024 12:00:00 AM</td>\n      <td>1500</td>\n      <td>3</td>\n      <td>Southwest</td>\n      <td>358</td>\n      <td>1</td>\n      <td>230</td>\n      <td>ASSAULT WITH DEADLY WEAPON, AGGRAVATED ASSAULT</td>\n      <td>...</td>\n      <td>IC</td>\n      <td>Invest Cont</td>\n      <td>230.0</td>\n      <td>NaN</td>\n      <td>NaN</td>\n      <td>NaN</td>\n      <td>FLOWER                       ST</td>\n      <td>JEFFERSON                    BL</td>\n      <td>34.0215</td>\n      <td>-118.2868</td>\n    </tr>\n    <tr>\n      <th>944234</th>\n      <td>240900704</td>\n      <td>04/29/2024 12:00:00 AM</td>\n      <td>04/29/2024 12:00:00 AM</td>\n      <td>2020</td>\n      <td>9</td>\n      <td>Van Nuys</td>\n      <td>916</td>\n      <td>2</td>\n      <td>740</td>\n      <td>VANDALISM - FELONY ($400 &amp; OVER, ALL CHURCH VA...</td>\n      <td>...</td>\n      <td>IC</td>\n      <td>Invest Cont</td>\n      <td>740.0</td>\n      <td>998.0</td>\n      <td>NaN</td>\n      <td>NaN</td>\n      <td>6800    HAZELTINE                    AV</td>\n      <td>NaN</td>\n      <td>34.1939</td>\n      <td>-118.4400</td>\n    </tr>\n  </tbody>\n</table>\n<p>73530 rows × 28 columns</p>\n</div>"
     },
     "execution_count": 6,
     "metadata": {},
     "output_type": "execute_result"
    }
   ],
   "source": [
    "data_recent"
   ],
   "metadata": {
    "collapsed": false,
    "ExecuteTime": {
     "end_time": "2024-06-06T11:33:49.602666800Z",
     "start_time": "2024-06-06T11:33:49.446564300Z"
    }
   },
   "id": "4ee2d609a857269e"
  },
  {
   "cell_type": "code",
   "execution_count": 15,
   "outputs": [],
   "source": [
    "data_recent.to_csv(\"data/dataset_recent.csv\")"
   ],
   "metadata": {
    "collapsed": false,
    "ExecuteTime": {
     "end_time": "2024-06-05T13:11:10.017347500Z",
     "start_time": "2024-06-05T13:11:09.287019500Z"
    }
   },
   "id": "cccefbcf495d5fff"
  },
  {
   "cell_type": "code",
   "execution_count": 21,
   "outputs": [],
   "source": [
    "case_statuses = data_recent[\"Status Desc\"].unique()"
   ],
   "metadata": {
    "collapsed": false,
    "ExecuteTime": {
     "end_time": "2024-06-05T13:41:35.176499Z",
     "start_time": "2024-06-05T13:41:35.163646900Z"
    }
   },
   "id": "ad0d42ec35bc8f5b"
  },
  {
   "cell_type": "code",
   "execution_count": 24,
   "outputs": [
    {
     "data": {
      "text/plain": "Status Desc\nInvest Cont     65393\nAdult Arrest     4119\nAdult Other      3672\nJuv Arrest        193\nJuv Other         152\nUNK                 1\nName: count, dtype: int64"
     },
     "execution_count": 24,
     "metadata": {},
     "output_type": "execute_result"
    }
   ],
   "source": [
    "data_recent[\"Status Desc\"].value_counts()"
   ],
   "metadata": {
    "collapsed": false,
    "ExecuteTime": {
     "end_time": "2024-06-05T13:43:19.886175200Z",
     "start_time": "2024-06-05T13:43:19.876889800Z"
    }
   },
   "id": "e5f8eb31a9db9a76"
  },
  {
   "cell_type": "code",
   "execution_count": 9,
   "outputs": [
    {
     "data": {
      "text/plain": "Vict Descent\nH    20313\nW    13707\nX    10342\nB     8523\nO     5559\nA     1516\nK      515\nF      428\nC      415\nJ      129\nV       99\nI       84\nZ       32\nU       23\nP       20\nL        9\nD        7\nG        4\nS        3\nName: count, dtype: int64"
     },
     "execution_count": 9,
     "metadata": {},
     "output_type": "execute_result"
    }
   ],
   "source": [
    "data_recent[\"Vict Descent\"].value_counts()"
   ],
   "metadata": {
    "collapsed": false,
    "ExecuteTime": {
     "end_time": "2024-06-06T11:37:03.004109500Z",
     "start_time": "2024-06-06T11:37:02.997852800Z"
    }
   },
   "id": "b0d34fdc8c58d371"
  },
  {
   "cell_type": "code",
   "execution_count": 27,
   "outputs": [
    {
     "data": {
      "text/plain": "Crm Cd Desc\nVEHICLE - STOLEN                                           8667\nBATTERY - SIMPLE ASSAULT                                   5191\nBURGLARY FROM VEHICLE                                      4533\nBURGLARY                                                   4375\nVANDALISM - FELONY ($400 & OVER, ALL CHURCH VANDALISMS)    4326\n                                                           ... \nBIGAMY                                                        1\nILLEGAL DUMPING                                               1\nINCITING A RIOT                                               1\nDOCUMENT WORTHLESS ($200 & UNDER)                             1\nPICKPOCKET, ATTEMPT                                           1\nName: count, Length: 128, dtype: int64"
     },
     "execution_count": 27,
     "metadata": {},
     "output_type": "execute_result"
    }
   ],
   "source": [
    "data_recent[\"Crm Cd Desc\"].value_counts()"
   ],
   "metadata": {
    "collapsed": false,
    "ExecuteTime": {
     "end_time": "2024-06-05T13:48:34.149365300Z",
     "start_time": "2024-06-05T13:48:34.123861200Z"
    }
   },
   "id": "f84b0ac427269f5c"
  },
  {
   "cell_type": "code",
   "execution_count": 30,
   "outputs": [
    {
     "data": {
      "text/plain": "Vict Descent\nH    1749\nB     870\nW     427\nO     186\nX     117\nA      46\nK       5\nI       4\nF       2\nName: count, dtype: int64"
     },
     "execution_count": 30,
     "metadata": {},
     "output_type": "execute_result"
    }
   ],
   "source": [
    "data_recent[data_recent[\"Crm Cd Desc\"] == \"ASSAULT WITH DEADLY WEAPON, AGGRAVATED ASSAULT\"][\"Vict Descent\"].value_counts()"
   ],
   "metadata": {
    "collapsed": false,
    "ExecuteTime": {
     "end_time": "2024-06-05T13:50:04.616354900Z",
     "start_time": "2024-06-05T13:50:04.603831Z"
    }
   },
   "id": "d6a0e2e83d855274"
  },
  {
   "cell_type": "code",
   "execution_count": null,
   "outputs": [],
   "source": [],
   "metadata": {
    "collapsed": false
   },
   "id": "a12973f5b8a2f515"
  }
 ],
 "metadata": {
  "kernelspec": {
   "display_name": "Python 3",
   "language": "python",
   "name": "python3"
  },
  "language_info": {
   "codemirror_mode": {
    "name": "ipython",
    "version": 2
   },
   "file_extension": ".py",
   "mimetype": "text/x-python",
   "name": "python",
   "nbconvert_exporter": "python",
   "pygments_lexer": "ipython2",
   "version": "2.7.6"
  }
 },
 "nbformat": 4,
 "nbformat_minor": 5
}
