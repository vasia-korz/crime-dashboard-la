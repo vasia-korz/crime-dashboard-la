{
 "cells": [
  {
   "cell_type": "code",
   "execution_count": 19,
   "id": "initial_id",
   "metadata": {
    "collapsed": true,
    "ExecuteTime": {
     "end_time": "2024-06-06T14:15:35.285611100Z",
     "start_time": "2024-06-06T14:15:35.217557Z"
    }
   },
   "outputs": [],
   "source": [
    "import pandas as pd\n",
    "import numpy as np"
   ]
  },
  {
   "cell_type": "code",
   "execution_count": 20,
   "outputs": [],
   "source": [
    "data = pd.read_csv(\"data/dataset.csv\")"
   ],
   "metadata": {
    "collapsed": false,
    "ExecuteTime": {
     "end_time": "2024-06-06T14:15:38.405778700Z",
     "start_time": "2024-06-06T14:15:35.222733500Z"
    }
   },
   "id": "d07f2d20d314050a"
  },
  {
   "cell_type": "code",
   "execution_count": 21,
   "outputs": [],
   "source": [
    "data_recent = data[\n",
    "    (data[\"Date Rptd\"].str.split().str[0].str[-4:] == \"2024\")\n",
    "]"
   ],
   "metadata": {
    "collapsed": false,
    "ExecuteTime": {
     "end_time": "2024-06-06T14:15:40.241053600Z",
     "start_time": "2024-06-06T14:15:38.407783800Z"
    }
   },
   "id": "802c6b186bed3900"
  },
  {
   "cell_type": "code",
   "execution_count": 22,
   "outputs": [],
   "source": [
    "data_recent = data_recent[data_recent[\"LAT\"] != 0]"
   ],
   "metadata": {
    "collapsed": false,
    "ExecuteTime": {
     "end_time": "2024-06-06T14:15:40.261780700Z",
     "start_time": "2024-06-06T14:15:40.244057700Z"
    }
   },
   "id": "5edf305be8cf56ac"
  },
  {
   "cell_type": "code",
   "execution_count": 23,
   "outputs": [],
   "source": [
    "data_recent[\"Vict Descent\"].replace(\"X\", \"\", inplace=True)\n",
    "data_recent[\"Vict Descent\"].fillna(\"\", inplace=True)"
   ],
   "metadata": {
    "collapsed": false,
    "ExecuteTime": {
     "end_time": "2024-06-06T14:15:40.280338100Z",
     "start_time": "2024-06-06T14:15:40.263781100Z"
    }
   },
   "id": "5e634967d9d1b1af"
  },
  {
   "cell_type": "code",
   "execution_count": 24,
   "outputs": [],
   "source": [
    "ethnicity_dict = {\n",
    "    \"A\": \"Asian\",\n",
    "    \"B\": \"Black\",\n",
    "    \"C\": \"Chinese\",\n",
    "    \"D\": \"Cambodian\",\n",
    "    \"F\": \"Filipino\",\n",
    "    \"G\": \"Guamanian\",\n",
    "    \"H\": \"Hispanic\",\n",
    "    \"I\": \"Native\",\n",
    "    \"J\": \"Japanese\",\n",
    "    \"K\": \"Korean\",\n",
    "    \"L\": \"Laotian\",\n",
    "    \"O\": \"Other\",\n",
    "    \"P\": \"Pacific\",\n",
    "    \"S\": \"Samoan\",\n",
    "    \"U\": \"Hawaiian\",\n",
    "    \"V\": \"Vietnamese\",\n",
    "    \"W\": \"White\",\n",
    "    \"Z\": \"Indian\"\n",
    "}"
   ],
   "metadata": {
    "collapsed": false,
    "ExecuteTime": {
     "end_time": "2024-06-06T14:15:40.281341400Z",
     "start_time": "2024-06-06T14:15:40.277201400Z"
    }
   },
   "id": "a50be1cd2476d463"
  },
  {
   "cell_type": "code",
   "execution_count": 25,
   "outputs": [],
   "source": [
    "data_recent[\"Vict Descent\"] = data_recent[\"Vict Descent\"].map(ethnicity_dict)"
   ],
   "metadata": {
    "collapsed": false,
    "ExecuteTime": {
     "end_time": "2024-06-06T14:15:40.291990200Z",
     "start_time": "2024-06-06T14:15:40.279210200Z"
    }
   },
   "id": "97449ad12bbd24b7"
  },
  {
   "cell_type": "code",
   "execution_count": 26,
   "outputs": [],
   "source": [
    "data_recent.to_csv(\"data/dataset_recent.csv\")"
   ],
   "metadata": {
    "collapsed": false,
    "ExecuteTime": {
     "end_time": "2024-06-06T14:15:41.147051700Z",
     "start_time": "2024-06-06T14:15:40.291990200Z"
    }
   },
   "id": "cccefbcf495d5fff"
  },
  {
   "cell_type": "code",
   "execution_count": 27,
   "outputs": [
    {
     "data": {
      "text/plain": "            DR_NO               Date Rptd                DATE OCC  TIME OCC  \\\n50      241504067  01/02/2024 12:00:00 AM  12/29/2020 12:00:00 AM       750   \n61      240604173  01/05/2024 12:00:00 AM  07/09/2020 12:00:00 AM      1230   \n177     241204387  01/05/2024 12:00:00 AM  05/05/2020 12:00:00 AM      1025   \n191     241204463  01/07/2024 12:00:00 AM  06/07/2020 12:00:00 AM      1315   \n218     240604147  01/05/2024 12:00:00 AM  01/01/2020 12:00:00 AM      1405   \n...           ...                     ...                     ...       ...   \n944230  242106032  02/20/2024 12:00:00 AM  02/17/2024 12:00:00 AM      2330   \n944231  242004546  01/16/2024 12:00:00 AM  01/16/2024 12:00:00 AM      1510   \n944232  240104953  01/15/2024 12:00:00 AM  01/15/2024 12:00:00 AM       100   \n944233  240309674  04/24/2024 12:00:00 AM  04/24/2024 12:00:00 AM      1500   \n944234  240900704  04/29/2024 12:00:00 AM  04/29/2024 12:00:00 AM      2020   \n\n        AREA    AREA NAME  Rpt Dist No  Part 1-2  Crm Cd  \\\n50        15  N Hollywood         1555         2     903   \n61         6    Hollywood          637         2     354   \n177       12  77th Street         1269         2     354   \n191       12  77th Street         1293         2     354   \n218        6    Hollywood          646         2     354   \n...      ...          ...          ...       ...     ...   \n944230    21      Topanga         2103         1     420   \n944231    20      Olympic         2013         2     624   \n944232     1      Central          101         2     745   \n944233     3    Southwest          358         1     230   \n944234     9     Van Nuys          916         2     740   \n\n                                              Crm Cd Desc  ... Status  \\\n50                                      CONTEMPT OF COURT  ...     IC   \n61                                      THEFT OF IDENTITY  ...     IC   \n177                                     THEFT OF IDENTITY  ...     IC   \n191                                     THEFT OF IDENTITY  ...     IC   \n218                                     THEFT OF IDENTITY  ...     IC   \n...                                                   ...  ...    ...   \n944230    THEFT FROM MOTOR VEHICLE - PETTY ($950 & UNDER)  ...     IC   \n944231                           BATTERY - SIMPLE ASSAULT  ...     IC   \n944232           VANDALISM - MISDEAMEANOR ($399 OR UNDER)  ...     IC   \n944233     ASSAULT WITH DEADLY WEAPON, AGGRAVATED ASSAULT  ...     IC   \n944234  VANDALISM - FELONY ($400 & OVER, ALL CHURCH VA...  ...     IC   \n\n        Status Desc Crm Cd 1 Crm Cd 2  Crm Cd 3 Crm Cd 4  \\\n50      Invest Cont    903.0      NaN       NaN      NaN   \n61      Invest Cont    354.0      NaN       NaN      NaN   \n177     Invest Cont    354.0      NaN       NaN      NaN   \n191     Invest Cont    354.0      NaN       NaN      NaN   \n218     Invest Cont    354.0      NaN       NaN      NaN   \n...             ...      ...      ...       ...      ...   \n944230  Invest Cont    420.0      NaN       NaN      NaN   \n944231  Invest Cont    624.0      NaN       NaN      NaN   \n944232  Invest Cont    745.0      NaN       NaN      NaN   \n944233  Invest Cont    230.0      NaN       NaN      NaN   \n944234  Invest Cont    740.0    998.0       NaN      NaN   \n\n                                        LOCATION  \\\n50       5000    TUJUNGA                      AV   \n61       6200    HOLLYWOOD                    BL   \n177       900 E  82ND                         ST   \n191     10200    RUTHELEN                     ST   \n218      1300    CHEROKEE                     AV   \n...                                          ...   \n944230  22700    NAPA                         ST   \n944231           HOBART                       BL   \n944232   1300 W  SUNSET                       BL   \n944233           FLOWER                       ST   \n944234   6800    HAZELTINE                    AV   \n\n                           Cross Street      LAT       LON  \n50                                  NaN  34.1614 -118.3790  \n61                                  NaN  34.1030 -118.3225  \n177                                 NaN  33.9647 -118.2586  \n191                                 NaN  33.9440 -118.3123  \n218                                 NaN  34.0944 -118.3352  \n...                                 ...      ...       ...  \n944230                              NaN  34.2260 -118.6214  \n944231  3RD                          ST  34.0690 -118.3054  \n944232                              NaN  34.0685 -118.2460  \n944233  JEFFERSON                    BL  34.0215 -118.2868  \n944234                              NaN  34.1939 -118.4400  \n\n[73530 rows x 28 columns]",
      "text/html": "<div>\n<style scoped>\n    .dataframe tbody tr th:only-of-type {\n        vertical-align: middle;\n    }\n\n    .dataframe tbody tr th {\n        vertical-align: top;\n    }\n\n    .dataframe thead th {\n        text-align: right;\n    }\n</style>\n<table border=\"1\" class=\"dataframe\">\n  <thead>\n    <tr style=\"text-align: right;\">\n      <th></th>\n      <th>DR_NO</th>\n      <th>Date Rptd</th>\n      <th>DATE OCC</th>\n      <th>TIME OCC</th>\n      <th>AREA</th>\n      <th>AREA NAME</th>\n      <th>Rpt Dist No</th>\n      <th>Part 1-2</th>\n      <th>Crm Cd</th>\n      <th>Crm Cd Desc</th>\n      <th>...</th>\n      <th>Status</th>\n      <th>Status Desc</th>\n      <th>Crm Cd 1</th>\n      <th>Crm Cd 2</th>\n      <th>Crm Cd 3</th>\n      <th>Crm Cd 4</th>\n      <th>LOCATION</th>\n      <th>Cross Street</th>\n      <th>LAT</th>\n      <th>LON</th>\n    </tr>\n  </thead>\n  <tbody>\n    <tr>\n      <th>50</th>\n      <td>241504067</td>\n      <td>01/02/2024 12:00:00 AM</td>\n      <td>12/29/2020 12:00:00 AM</td>\n      <td>750</td>\n      <td>15</td>\n      <td>N Hollywood</td>\n      <td>1555</td>\n      <td>2</td>\n      <td>903</td>\n      <td>CONTEMPT OF COURT</td>\n      <td>...</td>\n      <td>IC</td>\n      <td>Invest Cont</td>\n      <td>903.0</td>\n      <td>NaN</td>\n      <td>NaN</td>\n      <td>NaN</td>\n      <td>5000    TUJUNGA                      AV</td>\n      <td>NaN</td>\n      <td>34.1614</td>\n      <td>-118.3790</td>\n    </tr>\n    <tr>\n      <th>61</th>\n      <td>240604173</td>\n      <td>01/05/2024 12:00:00 AM</td>\n      <td>07/09/2020 12:00:00 AM</td>\n      <td>1230</td>\n      <td>6</td>\n      <td>Hollywood</td>\n      <td>637</td>\n      <td>2</td>\n      <td>354</td>\n      <td>THEFT OF IDENTITY</td>\n      <td>...</td>\n      <td>IC</td>\n      <td>Invest Cont</td>\n      <td>354.0</td>\n      <td>NaN</td>\n      <td>NaN</td>\n      <td>NaN</td>\n      <td>6200    HOLLYWOOD                    BL</td>\n      <td>NaN</td>\n      <td>34.1030</td>\n      <td>-118.3225</td>\n    </tr>\n    <tr>\n      <th>177</th>\n      <td>241204387</td>\n      <td>01/05/2024 12:00:00 AM</td>\n      <td>05/05/2020 12:00:00 AM</td>\n      <td>1025</td>\n      <td>12</td>\n      <td>77th Street</td>\n      <td>1269</td>\n      <td>2</td>\n      <td>354</td>\n      <td>THEFT OF IDENTITY</td>\n      <td>...</td>\n      <td>IC</td>\n      <td>Invest Cont</td>\n      <td>354.0</td>\n      <td>NaN</td>\n      <td>NaN</td>\n      <td>NaN</td>\n      <td>900 E  82ND                         ST</td>\n      <td>NaN</td>\n      <td>33.9647</td>\n      <td>-118.2586</td>\n    </tr>\n    <tr>\n      <th>191</th>\n      <td>241204463</td>\n      <td>01/07/2024 12:00:00 AM</td>\n      <td>06/07/2020 12:00:00 AM</td>\n      <td>1315</td>\n      <td>12</td>\n      <td>77th Street</td>\n      <td>1293</td>\n      <td>2</td>\n      <td>354</td>\n      <td>THEFT OF IDENTITY</td>\n      <td>...</td>\n      <td>IC</td>\n      <td>Invest Cont</td>\n      <td>354.0</td>\n      <td>NaN</td>\n      <td>NaN</td>\n      <td>NaN</td>\n      <td>10200    RUTHELEN                     ST</td>\n      <td>NaN</td>\n      <td>33.9440</td>\n      <td>-118.3123</td>\n    </tr>\n    <tr>\n      <th>218</th>\n      <td>240604147</td>\n      <td>01/05/2024 12:00:00 AM</td>\n      <td>01/01/2020 12:00:00 AM</td>\n      <td>1405</td>\n      <td>6</td>\n      <td>Hollywood</td>\n      <td>646</td>\n      <td>2</td>\n      <td>354</td>\n      <td>THEFT OF IDENTITY</td>\n      <td>...</td>\n      <td>IC</td>\n      <td>Invest Cont</td>\n      <td>354.0</td>\n      <td>NaN</td>\n      <td>NaN</td>\n      <td>NaN</td>\n      <td>1300    CHEROKEE                     AV</td>\n      <td>NaN</td>\n      <td>34.0944</td>\n      <td>-118.3352</td>\n    </tr>\n    <tr>\n      <th>...</th>\n      <td>...</td>\n      <td>...</td>\n      <td>...</td>\n      <td>...</td>\n      <td>...</td>\n      <td>...</td>\n      <td>...</td>\n      <td>...</td>\n      <td>...</td>\n      <td>...</td>\n      <td>...</td>\n      <td>...</td>\n      <td>...</td>\n      <td>...</td>\n      <td>...</td>\n      <td>...</td>\n      <td>...</td>\n      <td>...</td>\n      <td>...</td>\n      <td>...</td>\n      <td>...</td>\n    </tr>\n    <tr>\n      <th>944230</th>\n      <td>242106032</td>\n      <td>02/20/2024 12:00:00 AM</td>\n      <td>02/17/2024 12:00:00 AM</td>\n      <td>2330</td>\n      <td>21</td>\n      <td>Topanga</td>\n      <td>2103</td>\n      <td>1</td>\n      <td>420</td>\n      <td>THEFT FROM MOTOR VEHICLE - PETTY ($950 &amp; UNDER)</td>\n      <td>...</td>\n      <td>IC</td>\n      <td>Invest Cont</td>\n      <td>420.0</td>\n      <td>NaN</td>\n      <td>NaN</td>\n      <td>NaN</td>\n      <td>22700    NAPA                         ST</td>\n      <td>NaN</td>\n      <td>34.2260</td>\n      <td>-118.6214</td>\n    </tr>\n    <tr>\n      <th>944231</th>\n      <td>242004546</td>\n      <td>01/16/2024 12:00:00 AM</td>\n      <td>01/16/2024 12:00:00 AM</td>\n      <td>1510</td>\n      <td>20</td>\n      <td>Olympic</td>\n      <td>2013</td>\n      <td>2</td>\n      <td>624</td>\n      <td>BATTERY - SIMPLE ASSAULT</td>\n      <td>...</td>\n      <td>IC</td>\n      <td>Invest Cont</td>\n      <td>624.0</td>\n      <td>NaN</td>\n      <td>NaN</td>\n      <td>NaN</td>\n      <td>HOBART                       BL</td>\n      <td>3RD                          ST</td>\n      <td>34.0690</td>\n      <td>-118.3054</td>\n    </tr>\n    <tr>\n      <th>944232</th>\n      <td>240104953</td>\n      <td>01/15/2024 12:00:00 AM</td>\n      <td>01/15/2024 12:00:00 AM</td>\n      <td>100</td>\n      <td>1</td>\n      <td>Central</td>\n      <td>101</td>\n      <td>2</td>\n      <td>745</td>\n      <td>VANDALISM - MISDEAMEANOR ($399 OR UNDER)</td>\n      <td>...</td>\n      <td>IC</td>\n      <td>Invest Cont</td>\n      <td>745.0</td>\n      <td>NaN</td>\n      <td>NaN</td>\n      <td>NaN</td>\n      <td>1300 W  SUNSET                       BL</td>\n      <td>NaN</td>\n      <td>34.0685</td>\n      <td>-118.2460</td>\n    </tr>\n    <tr>\n      <th>944233</th>\n      <td>240309674</td>\n      <td>04/24/2024 12:00:00 AM</td>\n      <td>04/24/2024 12:00:00 AM</td>\n      <td>1500</td>\n      <td>3</td>\n      <td>Southwest</td>\n      <td>358</td>\n      <td>1</td>\n      <td>230</td>\n      <td>ASSAULT WITH DEADLY WEAPON, AGGRAVATED ASSAULT</td>\n      <td>...</td>\n      <td>IC</td>\n      <td>Invest Cont</td>\n      <td>230.0</td>\n      <td>NaN</td>\n      <td>NaN</td>\n      <td>NaN</td>\n      <td>FLOWER                       ST</td>\n      <td>JEFFERSON                    BL</td>\n      <td>34.0215</td>\n      <td>-118.2868</td>\n    </tr>\n    <tr>\n      <th>944234</th>\n      <td>240900704</td>\n      <td>04/29/2024 12:00:00 AM</td>\n      <td>04/29/2024 12:00:00 AM</td>\n      <td>2020</td>\n      <td>9</td>\n      <td>Van Nuys</td>\n      <td>916</td>\n      <td>2</td>\n      <td>740</td>\n      <td>VANDALISM - FELONY ($400 &amp; OVER, ALL CHURCH VA...</td>\n      <td>...</td>\n      <td>IC</td>\n      <td>Invest Cont</td>\n      <td>740.0</td>\n      <td>998.0</td>\n      <td>NaN</td>\n      <td>NaN</td>\n      <td>6800    HAZELTINE                    AV</td>\n      <td>NaN</td>\n      <td>34.1939</td>\n      <td>-118.4400</td>\n    </tr>\n  </tbody>\n</table>\n<p>73530 rows × 28 columns</p>\n</div>"
     },
     "execution_count": 27,
     "metadata": {},
     "output_type": "execute_result"
    }
   ],
   "source": [
    "data_recent"
   ],
   "metadata": {
    "collapsed": false,
    "ExecuteTime": {
     "end_time": "2024-06-06T14:15:41.208231600Z",
     "start_time": "2024-06-06T14:15:41.149052900Z"
    }
   },
   "id": "2a1b41dceee45701"
  },
  {
   "cell_type": "markdown",
   "source": [
    "# Suka breakdown"
   ],
   "metadata": {
    "collapsed": false
   },
   "id": "546a842c7f268c92"
  },
  {
   "cell_type": "code",
   "execution_count": 28,
   "outputs": [
    {
     "data": {
      "text/plain": "Vict Sex\nM    27531\nF    24479\nX     9708\nH       12\nName: count, dtype: int64"
     },
     "execution_count": 28,
     "metadata": {},
     "output_type": "execute_result"
    }
   ],
   "source": [
    "data_recent['Vict Sex'].value_counts()"
   ],
   "metadata": {
    "collapsed": false,
    "ExecuteTime": {
     "end_time": "2024-06-06T14:15:59.375353300Z",
     "start_time": "2024-06-06T14:15:59.366186400Z"
    }
   },
   "id": "204d6db3e3e3e327"
  },
  {
   "cell_type": "code",
   "execution_count": null,
   "outputs": [],
   "source": [
    "case_statuses = data_recent[\"Status Desc\"].unique()"
   ],
   "metadata": {
    "collapsed": false
   },
   "id": "ad0d42ec35bc8f5b"
  },
  {
   "cell_type": "code",
   "execution_count": null,
   "outputs": [],
   "source": [
    "data_recent[\"Status Desc\"].value_counts()"
   ],
   "metadata": {
    "collapsed": false
   },
   "id": "e5f8eb31a9db9a76"
  },
  {
   "cell_type": "code",
   "execution_count": null,
   "outputs": [],
   "source": [
    "data_recent[\"Vict Descent\"].value_counts()"
   ],
   "metadata": {
    "collapsed": false
   },
   "id": "b0d34fdc8c58d371"
  },
  {
   "cell_type": "code",
   "execution_count": null,
   "outputs": [],
   "source": [],
   "metadata": {
    "collapsed": false
   },
   "id": "5d4b0dd8f4f0cce7"
  },
  {
   "cell_type": "code",
   "execution_count": null,
   "outputs": [],
   "source": [
    "data_recent[\"Crm Cd Desc\"].value_counts()"
   ],
   "metadata": {
    "collapsed": false
   },
   "id": "f84b0ac427269f5c"
  },
  {
   "cell_type": "code",
   "execution_count": null,
   "outputs": [],
   "source": [
    "data_recent[data_recent[\"Crm Cd Desc\"] == \"ASSAULT WITH DEADLY WEAPON, AGGRAVATED ASSAULT\"][\"Vict Descent\"].value_counts()"
   ],
   "metadata": {
    "collapsed": false
   },
   "id": "d6a0e2e83d855274"
  },
  {
   "cell_type": "code",
   "execution_count": null,
   "outputs": [],
   "source": [],
   "metadata": {
    "collapsed": false
   },
   "id": "a12973f5b8a2f515"
  }
 ],
 "metadata": {
  "kernelspec": {
   "display_name": "Python 3",
   "language": "python",
   "name": "python3"
  },
  "language_info": {
   "codemirror_mode": {
    "name": "ipython",
    "version": 2
   },
   "file_extension": ".py",
   "mimetype": "text/x-python",
   "name": "python",
   "nbconvert_exporter": "python",
   "pygments_lexer": "ipython2",
   "version": "2.7.6"
  }
 },
 "nbformat": 4,
 "nbformat_minor": 5
}
